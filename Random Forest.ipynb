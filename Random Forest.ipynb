{
 "cells": [
  {
   "cell_type": "code",
   "execution_count": 1,
   "metadata": {},
   "outputs": [],
   "source": [
    "from matplotlib import pyplot as plt\n",
    "import numpy as np\n",
    "import pandas as pd\n",
    "import os\n",
    "# import seaborn as sns; sns.set(style=\"ticks\")\n",
    "\n",
    "import sklearn\n",
    "import sklearn.ensemble\n"
   ]
  },
  {
   "cell_type": "code",
   "execution_count": 2,
   "metadata": {},
   "outputs": [],
   "source": [
    "%load_ext autoreload\n",
    "%autoreload 2"
   ]
  },
  {
   "cell_type": "code",
   "execution_count": 3,
   "metadata": {},
   "outputs": [],
   "source": [
    "plt.rcParams['savefig.dpi'] = 80*2\n",
    "plt.rcParams['figure.dpi'] = 80*2\n",
    "plt.rcParams['figure.figsize'] = np.array((10,6))\n",
    "plt.rcParams['figure.facecolor'] = \"white\""
   ]
  },
  {
   "cell_type": "markdown",
   "metadata": {},
   "source": [
    "# Read in Data\n",
    "See `get catalogs.ipynb`"
   ]
  },
  {
   "cell_type": "code",
   "execution_count": 4,
   "metadata": {},
   "outputs": [],
   "source": [
    "data_dir = \"data\""
   ]
  },
  {
   "cell_type": "code",
   "execution_count": 5,
   "metadata": {},
   "outputs": [
    {
     "name": "stdout",
     "output_type": "stream",
     "text": [
      "(129702, 3)\n"
     ]
    },
    {
     "data": {
      "text/html": [
       "<div>\n",
       "<style scoped>\n",
       "    .dataframe tbody tr th:only-of-type {\n",
       "        vertical-align: middle;\n",
       "    }\n",
       "\n",
       "    .dataframe tbody tr th {\n",
       "        vertical-align: top;\n",
       "    }\n",
       "\n",
       "    .dataframe thead th {\n",
       "        text-align: right;\n",
       "    }\n",
       "</style>\n",
       "<table border=\"1\" class=\"dataframe\">\n",
       "  <thead>\n",
       "    <tr style=\"text-align: right;\">\n",
       "      <th></th>\n",
       "      <th>modelMag_g</th>\n",
       "      <th>modelMag_r</th>\n",
       "      <th>modelMag_i</th>\n",
       "    </tr>\n",
       "    <tr>\n",
       "      <th>SpecObjID</th>\n",
       "      <th></th>\n",
       "      <th></th>\n",
       "      <th></th>\n",
       "    </tr>\n",
       "  </thead>\n",
       "  <tbody>\n",
       "    <tr>\n",
       "      <th>75094093037830144</th>\n",
       "      <td>17.61871</td>\n",
       "      <td>16.96226</td>\n",
       "      <td>16.56983</td>\n",
       "    </tr>\n",
       "    <tr>\n",
       "      <th>75094093138493440</th>\n",
       "      <td>17.05057</td>\n",
       "      <td>16.26454</td>\n",
       "      <td>15.79881</td>\n",
       "    </tr>\n",
       "    <tr>\n",
       "      <th>75094093180436480</th>\n",
       "      <td>16.20129</td>\n",
       "      <td>15.53550</td>\n",
       "      <td>15.08500</td>\n",
       "    </tr>\n",
       "    <tr>\n",
       "      <th>75094093243351040</th>\n",
       "      <td>17.86717</td>\n",
       "      <td>17.17922</td>\n",
       "      <td>16.72164</td>\n",
       "    </tr>\n",
       "    <tr>\n",
       "      <th>75094093398540288</th>\n",
       "      <td>18.33195</td>\n",
       "      <td>17.63743</td>\n",
       "      <td>17.23082</td>\n",
       "    </tr>\n",
       "  </tbody>\n",
       "</table>\n",
       "</div>"
      ],
      "text/plain": [
       "                   modelMag_g  modelMag_r  modelMag_i\n",
       "SpecObjID                                            \n",
       "75094093037830144    17.61871    16.96226    16.56983\n",
       "75094093138493440    17.05057    16.26454    15.79881\n",
       "75094093180436480    16.20129    15.53550    15.08500\n",
       "75094093243351040    17.86717    17.17922    16.72164\n",
       "75094093398540288    18.33195    17.63743    17.23082"
      ]
     },
     "execution_count": 5,
     "metadata": {},
     "output_type": "execute_result"
    }
   ],
   "source": [
    "features = pd.read_csv(os.path.join(data_dir, \"features.csv\"))\n",
    "features = features.set_index(\"SpecObjID\")\n",
    "features = features[[\"modelMag_g\", \"modelMag_r\", \"modelMag_i\"]]\n",
    "print(features.shape)\n",
    "features.head()"
   ]
  },
  {
   "cell_type": "code",
   "execution_count": 6,
   "metadata": {},
   "outputs": [
    {
     "name": "stdout",
     "output_type": "stream",
     "text": [
      "(129702, 1)\n"
     ]
    },
    {
     "data": {
      "text/html": [
       "<div>\n",
       "<style scoped>\n",
       "    .dataframe tbody tr th:only-of-type {\n",
       "        vertical-align: middle;\n",
       "    }\n",
       "\n",
       "    .dataframe tbody tr th {\n",
       "        vertical-align: top;\n",
       "    }\n",
       "\n",
       "    .dataframe thead th {\n",
       "        text-align: right;\n",
       "    }\n",
       "</style>\n",
       "<table border=\"1\" class=\"dataframe\">\n",
       "  <thead>\n",
       "    <tr style=\"text-align: right;\">\n",
       "      <th></th>\n",
       "      <th>OH_median</th>\n",
       "    </tr>\n",
       "    <tr>\n",
       "      <th>SpecObjID</th>\n",
       "      <th></th>\n",
       "    </tr>\n",
       "  </thead>\n",
       "  <tbody>\n",
       "    <tr>\n",
       "      <th>75094093037830144</th>\n",
       "      <td>9.052521</td>\n",
       "    </tr>\n",
       "    <tr>\n",
       "      <th>75094093138493440</th>\n",
       "      <td>9.136789</td>\n",
       "    </tr>\n",
       "    <tr>\n",
       "      <th>75094093180436480</th>\n",
       "      <td>9.050070</td>\n",
       "    </tr>\n",
       "    <tr>\n",
       "      <th>75094093243351040</th>\n",
       "      <td>9.131351</td>\n",
       "    </tr>\n",
       "    <tr>\n",
       "      <th>75094093398540288</th>\n",
       "      <td>8.706560</td>\n",
       "    </tr>\n",
       "  </tbody>\n",
       "</table>\n",
       "</div>"
      ],
      "text/plain": [
       "                   OH_median\n",
       "SpecObjID                   \n",
       "75094093037830144   9.052521\n",
       "75094093138493440   9.136789\n",
       "75094093180436480   9.050070\n",
       "75094093243351040   9.131351\n",
       "75094093398540288   8.706560"
      ]
     },
     "execution_count": 6,
     "metadata": {},
     "output_type": "execute_result"
    }
   ],
   "source": [
    "targets = pd.read_csv(os.path.join(data_dir, \"targets.csv\"))\n",
    "targets = targets.set_index(\"SpecObjID\")\n",
    "print(targets.shape)\n",
    "targets.head()"
   ]
  },
  {
   "cell_type": "markdown",
   "metadata": {},
   "source": [
    "# Create training and testing set"
   ]
  },
  {
   "cell_type": "code",
   "execution_count": 7,
   "metadata": {},
   "outputs": [],
   "source": [
    "import split_sets"
   ]
  },
  {
   "cell_type": "code",
   "execution_count": 8,
   "metadata": {},
   "outputs": [],
   "source": [
    "index_sets = split_sets.split_indices(targets.index.values)\n",
    "training_set, validation_set, testing_set = index_sets"
   ]
  },
  {
   "cell_type": "code",
   "execution_count": 9,
   "metadata": {},
   "outputs": [
    {
     "data": {
      "text/plain": [
       "array([504354755443687424, 385848739601842176, 629327844501094400, ...,\n",
       "       620037963555799040, 665356282600882176, 680837538688008192])"
      ]
     },
     "execution_count": 9,
     "metadata": {},
     "output_type": "execute_result"
    }
   ],
   "source": [
    "training_set"
   ]
  },
  {
   "cell_type": "code",
   "execution_count": 10,
   "metadata": {},
   "outputs": [],
   "source": [
    "rf = sklearn.ensemble.RandomForestRegressor(\n",
    "    n_estimators=100,\n",
    "    n_jobs=6,\n",
    ")"
   ]
  },
  {
   "cell_type": "code",
   "execution_count": 11,
   "metadata": {},
   "outputs": [
    {
     "data": {
      "text/plain": [
       "RandomForestRegressor(bootstrap=True, criterion='mse', max_depth=None,\n",
       "           max_features='auto', max_leaf_nodes=None,\n",
       "           min_impurity_decrease=0.0, min_impurity_split=None,\n",
       "           min_samples_leaf=1, min_samples_split=2,\n",
       "           min_weight_fraction_leaf=0.0, n_estimators=100, n_jobs=6,\n",
       "           oob_score=False, random_state=None, verbose=0, warm_start=False)"
      ]
     },
     "execution_count": 11,
     "metadata": {},
     "output_type": "execute_result"
    }
   ],
   "source": [
    "rf.fit(features.loc[training_set].values, \n",
    "       targets.loc[training_set].values.reshape(-1, ))"
   ]
  },
  {
   "cell_type": "code",
   "execution_count": 12,
   "metadata": {},
   "outputs": [],
   "source": [
    "predicted = rf.predict(features.loc[validation_set])"
   ]
  },
  {
   "cell_type": "code",
   "execution_count": 13,
   "metadata": {},
   "outputs": [
    {
     "data": {
      "text/plain": [
       "Text(0, 0.5, 'Predicted')"
      ]
     },
     "execution_count": 13,
     "metadata": {},
     "output_type": "execute_result"
    },
    {
     "data": {
      "image/png": "[encoded data removed]",
      "text/plain": [
       "<Figure size 1600x960 with 1 Axes>"
      ]
     },
     "metadata": {},
     "output_type": "display_data"
    }
   ],
   "source": [
    "plt.hist2d(targets.loc[validation_set].values.flatten(), \n",
    "           predicted, \n",
    "           bins=100,\n",
    "           cmap=plt.get_cmap(\"gray_r\"))\n",
    "\n",
    "# plt.axis(\"square\")\n",
    "plt.plot([8, 9.5], [8, 9.5], linestyle= \"dashed\")\n",
    "\n",
    "plt.xlabel(\"True\")\n",
    "plt.ylabel(\"Predicted\")"
   ]
  },
  {
   "cell_type": "code",
   "execution_count": 14,
   "metadata": {},
   "outputs": [
    {
     "data": {
      "text/plain": [
       "0.1310133085962613"
      ]
     },
     "execution_count": 14,
     "metadata": {},
     "output_type": "execute_result"
    }
   ],
   "source": [
    "error = predicted - targets.loc[validation_set].values.flatten()\n",
    "(error**2).mean()**.5"
   ]
  },
  {
   "cell_type": "markdown",
   "metadata": {},
   "source": [
    "# Results\n",
    "Okay, this is a start. \n",
    " - We're getting about .119 dex error using a basic RF implementation (and .131 when I only use $gri$ bands). \n",
    " - Wu and Boada misquote [Acquaviva](https://academic.oup.com/mnras/article/456/2/1618/1063020), saying they get 0.081 and 0.093 for $0.09 < z < 0.12$ and $0.2 < z < 0.25$ subsamples, respectively. The details seem a little off, but whatever.\n",
    " - Wu and Boada say their 3-band RF has an RMSE of 0.130, which matches what I get here."
   ]
  },
  {
   "cell_type": "code",
   "execution_count": null,
   "metadata": {},
   "outputs": [],
   "source": []
  }
 ],
 "metadata": {
  "kernelspec": {
   "display_name": "Python 3",
   "language": "python",
   "name": "python3"
  },
  "language_info": {
   "codemirror_mode": {
    "name": "ipython",
    "version": 3
   },
   "file_extension": ".py",
   "mimetype": "text/x-python",
   "name": "python",
   "nbconvert_exporter": "python",
   "pygments_lexer": "ipython3",
   "version": "3.7.1"
  }
 },
 "nbformat": 4,
 "nbformat_minor": 2
}
