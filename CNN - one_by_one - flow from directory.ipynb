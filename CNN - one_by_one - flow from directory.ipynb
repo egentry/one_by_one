{
 "cells": [
  {
   "cell_type": "code",
   "execution_count": 1,
   "metadata": {},
   "outputs": [],
   "source": [
    "from matplotlib import pyplot as plt\n",
    "import pandas as pd\n",
    "import numpy as np\n",
    "import os\n",
    "import sys\n",
    "\n",
    "import astropy\n",
    "from astropy import wcs\n",
    "from astropy.nddata import Cutout2D\n",
    "from astropy import units as u\n",
    "\n",
    "from collections import namedtuple\n",
    "\n",
    "\n",
    "import glob\n"
   ]
  },
  {
   "cell_type": "code",
   "execution_count": 2,
   "metadata": {},
   "outputs": [
    {
     "name": "stderr",
     "output_type": "stream",
     "text": [
      "Using TensorFlow backend.\n"
     ]
    }
   ],
   "source": [
    "import keras\n",
    "from keras import backend as K\n",
    "K.set_image_data_format('channels_first')"
   ]
  },
  {
   "cell_type": "code",
   "execution_count": 3,
   "metadata": {},
   "outputs": [],
   "source": [
    "# my home-written modules\n",
    "import image_helpers\n",
    "import split_sets\n",
    "import model_helpers"
   ]
  },
  {
   "cell_type": "code",
   "execution_count": 4,
   "metadata": {},
   "outputs": [],
   "source": [
    "%load_ext autoreload\n",
    "%autoreload 2"
   ]
  },
  {
   "cell_type": "code",
   "execution_count": 5,
   "metadata": {},
   "outputs": [],
   "source": [
    "plt.rcParams['savefig.dpi'] = 80*2\n",
    "plt.rcParams['figure.dpi'] = 80*2\n",
    "plt.rcParams['figure.figsize'] = np.array((10,6))*.5\n",
    "plt.rcParams['figure.facecolor'] = \"white\""
   ]
  },
  {
   "cell_type": "code",
   "execution_count": 6,
   "metadata": {},
   "outputs": [],
   "source": [
    "data_dir = image_helpers.data_dir\n"
   ]
  },
  {
   "cell_type": "markdown",
   "metadata": {},
   "source": [
    "# Load data"
   ]
  },
  {
   "cell_type": "code",
   "execution_count": 7,
   "metadata": {},
   "outputs": [
    {
     "name": "stdout",
     "output_type": "stream",
     "text": [
      "(129702, 88)\n"
     ]
    },
    {
     "data": {
      "text/html": [
       "<div>\n",
       "<style scoped>\n",
       "    .dataframe tbody tr th:only-of-type {\n",
       "        vertical-align: middle;\n",
       "    }\n",
       "\n",
       "    .dataframe tbody tr th {\n",
       "        vertical-align: top;\n",
       "    }\n",
       "\n",
       "    .dataframe thead th {\n",
       "        text-align: right;\n",
       "    }\n",
       "</style>\n",
       "<table border=\"1\" class=\"dataframe\">\n",
       "  <thead>\n",
       "    <tr style=\"text-align: right;\">\n",
       "      <th></th>\n",
       "      <th>BESTOBJID</th>\n",
       "      <th>FIBERID</th>\n",
       "      <th>HTMID</th>\n",
       "      <th>PLATEID</th>\n",
       "      <th>SPECOBJID</th>\n",
       "      <th>SPECTROGRAPHID</th>\n",
       "      <th>TARGETID</th>\n",
       "      <th>TARGETOBJID</th>\n",
       "      <th>OBJTYPENAME</th>\n",
       "      <th>SCIENCEPRIMARY</th>\n",
       "      <th>...</th>\n",
       "      <th>primTarget</th>\n",
       "      <th>secTarget</th>\n",
       "      <th>extinction_u</th>\n",
       "      <th>extinction_g</th>\n",
       "      <th>extinction_r</th>\n",
       "      <th>extinction_i</th>\n",
       "      <th>extinction_z</th>\n",
       "      <th>htmID</th>\n",
       "      <th>fieldID</th>\n",
       "      <th>size</th>\n",
       "    </tr>\n",
       "    <tr>\n",
       "      <th>SpecObjID</th>\n",
       "      <th></th>\n",
       "      <th></th>\n",
       "      <th></th>\n",
       "      <th></th>\n",
       "      <th></th>\n",
       "      <th></th>\n",
       "      <th></th>\n",
       "      <th></th>\n",
       "      <th></th>\n",
       "      <th></th>\n",
       "      <th></th>\n",
       "      <th></th>\n",
       "      <th></th>\n",
       "      <th></th>\n",
       "      <th></th>\n",
       "      <th></th>\n",
       "      <th></th>\n",
       "      <th></th>\n",
       "      <th></th>\n",
       "      <th></th>\n",
       "      <th></th>\n",
       "    </tr>\n",
       "  </thead>\n",
       "  <tbody>\n",
       "    <tr>\n",
       "      <th>75094093037830144</th>\n",
       "      <td>0</td>\n",
       "      <td>17</td>\n",
       "      <td>10570139305399</td>\n",
       "      <td>75094092966526976</td>\n",
       "      <td>75094093037830144</td>\n",
       "      <td>1</td>\n",
       "      <td>284705867169812</td>\n",
       "      <td>0</td>\n",
       "      <td>GALAXY</td>\n",
       "      <td>1</td>\n",
       "      <td>...</td>\n",
       "      <td>64</td>\n",
       "      <td>0</td>\n",
       "      <td>0.379354</td>\n",
       "      <td>0.279125</td>\n",
       "      <td>0.202445</td>\n",
       "      <td>0.153508</td>\n",
       "      <td>0.108839</td>\n",
       "      <td>10570139305399</td>\n",
       "      <td>587725073921540096</td>\n",
       "      <td>4.297720</td>\n",
       "    </tr>\n",
       "    <tr>\n",
       "      <th>75094093138493440</th>\n",
       "      <td>0</td>\n",
       "      <td>41</td>\n",
       "      <td>10570179932652</td>\n",
       "      <td>75094092966526976</td>\n",
       "      <td>75094093138493440</td>\n",
       "      <td>1</td>\n",
       "      <td>284722522292399</td>\n",
       "      <td>0</td>\n",
       "      <td>GALAXY</td>\n",
       "      <td>1</td>\n",
       "      <td>...</td>\n",
       "      <td>64</td>\n",
       "      <td>0</td>\n",
       "      <td>0.273461</td>\n",
       "      <td>0.201210</td>\n",
       "      <td>0.145934</td>\n",
       "      <td>0.110658</td>\n",
       "      <td>0.078458</td>\n",
       "      <td>10570179932652</td>\n",
       "      <td>588848898824273920</td>\n",
       "      <td>8.377118</td>\n",
       "    </tr>\n",
       "    <tr>\n",
       "      <th>75094093180436480</th>\n",
       "      <td>0</td>\n",
       "      <td>51</td>\n",
       "      <td>10570166742677</td>\n",
       "      <td>75094092966526976</td>\n",
       "      <td>75094093180436480</td>\n",
       "      <td>1</td>\n",
       "      <td>284722522292321</td>\n",
       "      <td>0</td>\n",
       "      <td>GALAXY</td>\n",
       "      <td>1</td>\n",
       "      <td>...</td>\n",
       "      <td>64</td>\n",
       "      <td>0</td>\n",
       "      <td>0.320851</td>\n",
       "      <td>0.236079</td>\n",
       "      <td>0.171224</td>\n",
       "      <td>0.129834</td>\n",
       "      <td>0.092054</td>\n",
       "      <td>10570166742677</td>\n",
       "      <td>588848898824273920</td>\n",
       "      <td>4.254059</td>\n",
       "    </tr>\n",
       "    <tr>\n",
       "      <th>75094093243351040</th>\n",
       "      <td>0</td>\n",
       "      <td>66</td>\n",
       "      <td>10552759033190</td>\n",
       "      <td>75094092966526976</td>\n",
       "      <td>75094093243351040</td>\n",
       "      <td>1</td>\n",
       "      <td>284723059294422</td>\n",
       "      <td>0</td>\n",
       "      <td>GALAXY</td>\n",
       "      <td>1</td>\n",
       "      <td>...</td>\n",
       "      <td>64</td>\n",
       "      <td>0</td>\n",
       "      <td>0.707734</td>\n",
       "      <td>0.520744</td>\n",
       "      <td>0.377687</td>\n",
       "      <td>0.286388</td>\n",
       "      <td>0.203053</td>\n",
       "      <td>10552759030425</td>\n",
       "      <td>588848899361275904</td>\n",
       "      <td>3.969658</td>\n",
       "    </tr>\n",
       "    <tr>\n",
       "      <th>75094093398540288</th>\n",
       "      <td>0</td>\n",
       "      <td>103</td>\n",
       "      <td>10552790951266</td>\n",
       "      <td>75094092966526976</td>\n",
       "      <td>75094093398540288</td>\n",
       "      <td>1</td>\n",
       "      <td>284723596034444</td>\n",
       "      <td>0</td>\n",
       "      <td>GALAXY</td>\n",
       "      <td>1</td>\n",
       "      <td>...</td>\n",
       "      <td>64</td>\n",
       "      <td>0</td>\n",
       "      <td>0.821007</td>\n",
       "      <td>0.604089</td>\n",
       "      <td>0.438136</td>\n",
       "      <td>0.332225</td>\n",
       "      <td>0.235552</td>\n",
       "      <td>10552790951266</td>\n",
       "      <td>588848899898015744</td>\n",
       "      <td>12.901030</td>\n",
       "    </tr>\n",
       "  </tbody>\n",
       "</table>\n",
       "<p>5 rows × 88 columns</p>\n",
       "</div>"
      ],
      "text/plain": [
       "                   BESTOBJID  FIBERID           HTMID            PLATEID  \\\n",
       "SpecObjID                                                                  \n",
       "75094093037830144          0       17  10570139305399  75094092966526976   \n",
       "75094093138493440          0       41  10570179932652  75094092966526976   \n",
       "75094093180436480          0       51  10570166742677  75094092966526976   \n",
       "75094093243351040          0       66  10552759033190  75094092966526976   \n",
       "75094093398540288          0      103  10552790951266  75094092966526976   \n",
       "\n",
       "                           SPECOBJID  SPECTROGRAPHID         TARGETID  \\\n",
       "SpecObjID                                                               \n",
       "75094093037830144  75094093037830144               1  284705867169812   \n",
       "75094093138493440  75094093138493440               1  284722522292399   \n",
       "75094093180436480  75094093180436480               1  284722522292321   \n",
       "75094093243351040  75094093243351040               1  284723059294422   \n",
       "75094093398540288  75094093398540288               1  284723596034444   \n",
       "\n",
       "                   TARGETOBJID OBJTYPENAME  SCIENCEPRIMARY    ...      \\\n",
       "SpecObjID                                                     ...       \n",
       "75094093037830144            0      GALAXY               1    ...       \n",
       "75094093138493440            0      GALAXY               1    ...       \n",
       "75094093180436480            0      GALAXY               1    ...       \n",
       "75094093243351040            0      GALAXY               1    ...       \n",
       "75094093398540288            0      GALAXY               1    ...       \n",
       "\n",
       "                   primTarget  secTarget  extinction_u  extinction_g  \\\n",
       "SpecObjID                                                              \n",
       "75094093037830144          64          0      0.379354      0.279125   \n",
       "75094093138493440          64          0      0.273461      0.201210   \n",
       "75094093180436480          64          0      0.320851      0.236079   \n",
       "75094093243351040          64          0      0.707734      0.520744   \n",
       "75094093398540288          64          0      0.821007      0.604089   \n",
       "\n",
       "                   extinction_r  extinction_i  extinction_z           htmID  \\\n",
       "SpecObjID                                                                     \n",
       "75094093037830144      0.202445      0.153508      0.108839  10570139305399   \n",
       "75094093138493440      0.145934      0.110658      0.078458  10570179932652   \n",
       "75094093180436480      0.171224      0.129834      0.092054  10570166742677   \n",
       "75094093243351040      0.377687      0.286388      0.203053  10552759030425   \n",
       "75094093398540288      0.438136      0.332225      0.235552  10552790951266   \n",
       "\n",
       "                              fieldID       size  \n",
       "SpecObjID                                         \n",
       "75094093037830144  587725073921540096   4.297720  \n",
       "75094093138493440  588848898824273920   8.377118  \n",
       "75094093180436480  588848898824273920   4.254059  \n",
       "75094093243351040  588848899361275904   3.969658  \n",
       "75094093398540288  588848899898015744  12.901030  \n",
       "\n",
       "[5 rows x 88 columns]"
      ]
     },
     "execution_count": 7,
     "metadata": {},
     "output_type": "execute_result"
    }
   ],
   "source": [
    "df = pd.read_csv(os.path.join(data_dir, \"matched_galaxies.csv\"))\n",
    "df = df.set_index(\"SpecObjID\")\n",
    "print(df.shape)\n",
    "df.head()"
   ]
  },
  {
   "cell_type": "code",
   "execution_count": 8,
   "metadata": {},
   "outputs": [
    {
     "data": {
      "text/html": [
       "<div>\n",
       "<style scoped>\n",
       "    .dataframe tbody tr th:only-of-type {\n",
       "        vertical-align: middle;\n",
       "    }\n",
       "\n",
       "    .dataframe tbody tr th {\n",
       "        vertical-align: top;\n",
       "    }\n",
       "\n",
       "    .dataframe thead th {\n",
       "        text-align: right;\n",
       "    }\n",
       "</style>\n",
       "<table border=\"1\" class=\"dataframe\">\n",
       "  <thead>\n",
       "    <tr style=\"text-align: right;\">\n",
       "      <th></th>\n",
       "      <th>MEDIAN</th>\n",
       "    </tr>\n",
       "    <tr>\n",
       "      <th>SpecObjID</th>\n",
       "      <th></th>\n",
       "    </tr>\n",
       "  </thead>\n",
       "  <tbody>\n",
       "    <tr>\n",
       "      <th>75094093037830144</th>\n",
       "      <td>9.052521</td>\n",
       "    </tr>\n",
       "    <tr>\n",
       "      <th>75094093138493440</th>\n",
       "      <td>9.136789</td>\n",
       "    </tr>\n",
       "    <tr>\n",
       "      <th>75094093180436480</th>\n",
       "      <td>9.050070</td>\n",
       "    </tr>\n",
       "    <tr>\n",
       "      <th>75094093243351040</th>\n",
       "      <td>9.131351</td>\n",
       "    </tr>\n",
       "    <tr>\n",
       "      <th>75094093398540288</th>\n",
       "      <td>8.706560</td>\n",
       "    </tr>\n",
       "  </tbody>\n",
       "</table>\n",
       "</div>"
      ],
      "text/plain": [
       "                     MEDIAN\n",
       "SpecObjID                  \n",
       "75094093037830144  9.052521\n",
       "75094093138493440  9.136789\n",
       "75094093180436480  9.050070\n",
       "75094093243351040  9.131351\n",
       "75094093398540288  8.706560"
      ]
     },
     "execution_count": 8,
     "metadata": {},
     "output_type": "execute_result"
    }
   ],
   "source": [
    "# targets\n",
    "df_Y = df[[\"MEDIAN\"]]\n",
    "df_Y.head()\n"
   ]
  },
  {
   "cell_type": "code",
   "execution_count": 9,
   "metadata": {},
   "outputs": [
    {
     "name": "stdout",
     "output_type": "stream",
     "text": [
      "MEDIAN    0.040022\n",
      "dtype: float64\n"
     ]
    },
    {
     "data": {
      "image/png": "[encoded data removed]",
      "text/plain": [
       "<Figure size 800x480 with 1 Axes>"
      ]
     },
     "metadata": {},
     "output_type": "display_data"
    }
   ],
   "source": [
    "plt.hist(df_Y.MEDIAN.values, bins=30)\n",
    "print(df_Y.var())"
   ]
  },
  {
   "cell_type": "code",
   "execution_count": 10,
   "metadata": {},
   "outputs": [],
   "source": [
    "ids_with_images = glob.glob(os.path.join(data_dir, \n",
    "                                         \"images\",\n",
    "                                         \"processed\",\n",
    "                                         \"*.npy\"))\n",
    "ids_with_images = [os.path.split(filename)[1].replace(\".npy\", \"\")\n",
    "                   for filename in ids_with_images]\n",
    "ids_with_images = np.array(ids_with_images, dtype=int)\n",
    "\n",
    "ids_with_images_full = ids_with_images.copy()\n",
    "# ids_with_images = ids_with_images[:10000]"
   ]
  },
  {
   "cell_type": "markdown",
   "metadata": {},
   "source": [
    "# Split training and validation"
   ]
  },
  {
   "cell_type": "code",
   "execution_count": 11,
   "metadata": {},
   "outputs": [
    {
     "name": "stderr",
     "output_type": "stream",
     "text": [
      "/Users/egentry/anaconda3/envs/tf/lib/python3.6/site-packages/ipykernel_launcher.py:6: SettingWithCopyWarning: \n",
      "A value is trying to be set on a copy of a slice from a DataFrame.\n",
      "Try using .loc[row_indexer,col_indexer] = value instead\n",
      "\n",
      "See the caveats in the documentation: http://pandas.pydata.org/pandas-docs/stable/indexing.html#indexing-view-versus-copy\n",
      "  \n"
     ]
    }
   ],
   "source": [
    "id_sets = split_sets.split_indices(ids_with_images, \n",
    "                                   num_testing=0, # keep 0 while testing out the code\n",
    "                                  )\n",
    "training_ids, validation_ids, _ = id_sets\n",
    "\n",
    "df_Y[\"target\"] = df_Y[\"MEDIAN\"] - df_Y.loc[training_ids].MEDIAN.mean()"
   ]
  },
  {
   "cell_type": "code",
   "execution_count": 12,
   "metadata": {},
   "outputs": [],
   "source": [
    "image_filename_format = os.path.join(data_dir, \n",
    "                                     \"images\", \n",
    "                                     \"processed\", \n",
    "                                     \"{}.npy\")"
   ]
  },
  {
   "cell_type": "code",
   "execution_count": 13,
   "metadata": {},
   "outputs": [],
   "source": [
    "class ReadFromDiskSequence(keras.utils.Sequence):\n",
    "\n",
    "    def __init__(self, training_ids, \n",
    "                 df_Y=df_Y,\n",
    "                 batch_size=128,\n",
    "                 max_num_batches=2**31,\n",
    "                 num_channels=5,\n",
    "                 image_shape=(95,95),\n",
    "                 image_filename_format=image_filename_format,\n",
    "                 horizontal_flip=True,\n",
    "                 verticle_flip=True,\n",
    "                 shuffle_each_epoch=True,\n",
    "                ):\n",
    "        self.training_ids = training_ids\n",
    "        self.df_Y = df_Y\n",
    "        self.batch_size = batch_size\n",
    "        self.num_batches = min(\n",
    "            int(np.ceil(len(training_ids) / batch_size)),\n",
    "            max_num_batches,\n",
    "               )\n",
    "        self.batch_images_shape = (batch_size, \n",
    "                                   num_channels, \n",
    "                                   *image_shape)\n",
    "        \n",
    "        self.filename_format = image_filename_format\n",
    "        \n",
    "        self.shuffle_each_epoch = shuffle_each_epoch\n",
    "        \n",
    "        # data augmentation options\n",
    "        self.horizontal_flip = horizontal_flip\n",
    "        self.verticle_flip = verticle_flip\n",
    "        \n",
    "        self.on_epoch_end()\n",
    "        \n",
    "\n",
    "    def __len__(self):\n",
    "        return self.num_batches\n",
    "    \n",
    "    def on_epoch_end(self):\n",
    "        if self.shuffle_each_epoch:\n",
    "            self.shuffled_ids = np.random.permutation(training_ids)\n",
    "        else:\n",
    "            self.shuffled_ids = training_ids\n",
    "\n",
    "\n",
    "    def __getitem__(self, idx):\n",
    "        batch_ids = self.shuffled_ids[idx*self.batch_size:\n",
    "                                      (idx+1)*self.batch_size]\n",
    "\n",
    "        X = np.empty(self.batch_images_shape)\n",
    "        for i, galaxy_id in enumerate(batch_ids):\n",
    "            img = np.load(self.filename_format.format(galaxy_id))\n",
    "            if self.verticle_flip:\n",
    "                if np.random.choice((True, False)):\n",
    "                    img = img[:,:,::-1]\n",
    "            if self.horizontal_flip:\n",
    "                if np.random.choice((True, False)):\n",
    "                    img = img[:,::-1,:]\n",
    "            X[i] = img\n",
    "        Y = df_Y.loc[batch_ids].target.values.flatten()\n",
    "\n",
    "        return X, Y\n"
   ]
  },
  {
   "cell_type": "code",
   "execution_count": 14,
   "metadata": {},
   "outputs": [],
   "source": [
    "data_generator_training = ReadFromDiskSequence(training_ids,\n",
    "                                               max_num_batches=50)\n",
    "data_generator_validation  = ReadFromDiskSequence(validation_ids,\n",
    "                                                  max_num_batches=50)\n",
    "\n",
    "res = data_generator_training.__getitem__(1)"
   ]
  },
  {
   "cell_type": "code",
   "execution_count": 15,
   "metadata": {},
   "outputs": [
    {
     "data": {
      "text/plain": [
       "(128, 5, 95, 95)"
      ]
     },
     "execution_count": 15,
     "metadata": {},
     "output_type": "execute_result"
    }
   ],
   "source": [
    "res[0].shape"
   ]
  },
  {
   "cell_type": "code",
   "execution_count": 16,
   "metadata": {},
   "outputs": [
    {
     "data": {
      "text/plain": [
       "(128,)"
      ]
     },
     "execution_count": 16,
     "metadata": {},
     "output_type": "execute_result"
    }
   ],
   "source": [
    "res[1].shape"
   ]
  },
  {
   "cell_type": "code",
   "execution_count": 18,
   "metadata": {},
   "outputs": [],
   "source": [
    "K.set_session(\n",
    "    K.tf.Session(\n",
    "        config=K.tf.ConfigProto(intra_op_parallelism_threads=4, \n",
    "                                inter_op_parallelism_threads=4)\n",
    "    )\n",
    ")\n",
    "\n",
    "model = model_helpers.build_model((5,95,95),\n",
    "                                  with_one_by_one=True,\n",
    "                                 )\n",
    "\n",
    "logger_filename = \"./test.log\"\n",
    "model = model_helpers.compile_model(model, logger_filename)"
   ]
  },
  {
   "cell_type": "code",
   "execution_count": 19,
   "metadata": {},
   "outputs": [],
   "source": [
    "earlystopping = keras.callbacks.EarlyStopping(monitor='loss',\n",
    "                              patience=35,\n",
    "                              verbose=1,\n",
    "                              mode='auto' )\n"
   ]
  },
  {
   "cell_type": "code",
   "execution_count": 20,
   "metadata": {},
   "outputs": [],
   "source": [
    "csv_logger = keras.callbacks.CSVLogger(logger_filename,\n",
    "                                       append=True)"
   ]
  },
  {
   "cell_type": "code",
   "execution_count": 21,
   "metadata": {},
   "outputs": [],
   "source": [
    "# modelcheckpoint = keras.callbacks.ModelCheckpoint(pathinCat+'Models/bestmodelMAG.hdf5',monitor='val_loss',verbose=0,save_best_only=True)\n"
   ]
  },
  {
   "cell_type": "markdown",
   "metadata": {},
   "source": [
    "# Run Model"
   ]
  },
  {
   "cell_type": "code",
   "execution_count": 22,
   "metadata": {},
   "outputs": [
    {
     "name": "stdout",
     "output_type": "stream",
     "text": [
      "steps_per_epoch:  50\n",
      "batch_size:  128\n"
     ]
    }
   ],
   "source": [
    "batch_size = data_generator_training.batch_size\n",
    "steps_per_epoch = data_generator_training.num_batches\n",
    "print(\"steps_per_epoch: \", steps_per_epoch)\n",
    "print(\"batch_size: \", batch_size)\n",
    "epochs = 100\n",
    "verbose = 1"
   ]
  },
  {
   "cell_type": "code",
   "execution_count": 23,
   "metadata": {},
   "outputs": [
    {
     "name": "stdout",
     "output_type": "stream",
     "text": [
      "Epoch 1/100\n",
      "50/50 [==============================] - 3647s 73s/step - loss: 0.1023 - val_loss: 0.0314\n",
      "Epoch 2/100\n",
      "50/50 [==============================] - 3610s 72s/step - loss: 0.0309 - val_loss: 0.0290\n",
      "Epoch 3/100\n",
      "50/50 [==============================] - 3597s 72s/step - loss: 0.0303 - val_loss: 0.0289\n",
      "Epoch 4/100\n",
      "50/50 [==============================] - 3592s 72s/step - loss: 0.0292 - val_loss: 0.0301\n",
      "Epoch 5/100\n",
      "50/50 [==============================] - 3662s 73s/step - loss: 0.0280 - val_loss: 0.0292\n",
      "Epoch 6/100\n",
      "50/50 [==============================] - 3612s 72s/step - loss: 0.0276 - val_loss: 0.0285\n",
      "Epoch 7/100\n",
      "50/50 [==============================] - 3657s 73s/step - loss: 0.0272 - val_loss: 0.0265\n",
      "Epoch 8/100\n",
      "50/50 [==============================] - 3620s 72s/step - loss: 0.0273 - val_loss: 0.0279\n",
      "Epoch 9/100\n",
      "50/50 [==============================] - 3595s 72s/step - loss: 0.0263 - val_loss: 0.0256\n",
      "Epoch 10/100\n",
      "50/50 [==============================] - 3570s 71s/step - loss: 0.0268 - val_loss: 0.0271\n",
      "Epoch 11/100\n",
      "50/50 [==============================] - 3581s 72s/step - loss: 0.0273 - val_loss: 0.0306\n",
      "Epoch 12/100\n",
      "50/50 [==============================] - 3666s 73s/step - loss: 0.0269 - val_loss: 0.0256\n",
      "Epoch 13/100\n",
      "50/50 [==============================] - 3600s 72s/step - loss: 0.0247 - val_loss: 0.0263\n",
      "Epoch 14/100\n",
      "50/50 [==============================] - 3659s 73s/step - loss: 0.0241 - val_loss: 0.0244\n",
      "Epoch 15/100\n",
      "50/50 [==============================] - 3606s 72s/step - loss: 0.0248 - val_loss: 0.0249\n",
      "Epoch 16/100\n",
      "50/50 [==============================] - 3656s 73s/step - loss: 0.0246 - val_loss: 0.0264\n",
      "Epoch 17/100\n",
      "50/50 [==============================] - 3673s 73s/step - loss: 0.0250 - val_loss: 0.0276\n",
      "Epoch 18/100\n",
      "50/50 [==============================] - 3610s 72s/step - loss: 0.0249 - val_loss: 0.0238\n",
      "Epoch 19/100\n",
      "50/50 [==============================] - 3603s 72s/step - loss: 0.0241 - val_loss: 0.0232\n",
      "Epoch 20/100\n",
      "50/50 [==============================] - 3602s 72s/step - loss: 0.0235 - val_loss: 0.0248\n",
      "Epoch 21/100\n",
      "50/50 [==============================] - 3605s 72s/step - loss: 0.0251 - val_loss: 0.0267\n",
      "Epoch 22/100\n",
      "50/50 [==============================] - 3612s 72s/step - loss: 0.0247 - val_loss: 0.0244\n",
      "Epoch 23/100\n",
      "50/50 [==============================] - 3689s 74s/step - loss: 0.0245 - val_loss: 0.0244\n",
      "Epoch 24/100\n",
      "50/50 [==============================] - 3612s 72s/step - loss: 0.0244 - val_loss: 0.0240\n",
      "Epoch 25/100\n",
      "50/50 [==============================] - 3712s 74s/step - loss: 0.0244 - val_loss: 0.0256\n",
      "Epoch 26/100\n",
      "50/50 [==============================] - 3644s 73s/step - loss: 0.0232 - val_loss: 0.0238\n",
      "Epoch 27/100\n",
      "50/50 [==============================] - 3734s 75s/step - loss: 0.0234 - val_loss: 0.0239\n",
      "Epoch 28/100\n",
      "50/50 [==============================] - 3626s 73s/step - loss: 0.0240 - val_loss: 0.0246\n",
      "Epoch 29/100\n",
      "50/50 [==============================] - 3635s 73s/step - loss: 0.0251 - val_loss: 0.0232\n",
      "Epoch 30/100\n",
      "50/50 [==============================] - 3619s 72s/step - loss: 0.0236 - val_loss: 0.0251\n",
      "Epoch 31/100\n",
      "50/50 [==============================] - 3692s 74s/step - loss: 0.0241 - val_loss: 0.0229\n",
      "Epoch 32/100\n",
      "50/50 [==============================] - 3733s 75s/step - loss: 0.0235 - val_loss: 0.0228\n",
      "Epoch 33/100\n",
      "50/50 [==============================] - 3644s 73s/step - loss: 0.0232 - val_loss: 0.0235\n",
      "Epoch 34/100\n",
      "50/50 [==============================] - 3649s 73s/step - loss: 0.0229 - val_loss: 0.0234\n",
      "Epoch 35/100\n",
      "50/50 [==============================] - 3640s 73s/step - loss: 0.0240 - val_loss: 0.0226\n",
      "Epoch 36/100\n",
      "50/50 [==============================] - 3628s 73s/step - loss: 0.0245 - val_loss: 0.0224\n",
      "Epoch 37/100\n",
      "50/50 [==============================] - 3626s 73s/step - loss: 0.0222 - val_loss: 0.0232\n",
      "Epoch 38/100\n",
      "50/50 [==============================] - 2922s 58s/step - loss: 0.0235 - val_loss: 0.0237\n",
      "Epoch 39/100\n",
      "50/50 [==============================] - 2586s 52s/step - loss: 0.0224 - val_loss: 0.0226\n",
      "Epoch 40/100\n",
      "50/50 [==============================] - 2592s 52s/step - loss: 0.0226 - val_loss: 0.0233\n",
      "Epoch 41/100\n",
      "50/50 [==============================] - 2599s 52s/step - loss: 0.0232 - val_loss: 0.0222\n",
      "Epoch 42/100\n",
      "50/50 [==============================] - 2608s 52s/step - loss: 0.0226 - val_loss: 0.0225\n",
      "Epoch 43/100\n",
      "50/50 [==============================] - 2599s 52s/step - loss: 0.0231 - val_loss: 0.0235\n",
      "Epoch 44/100\n",
      "50/50 [==============================] - 2599s 52s/step - loss: 0.0227 - val_loss: 0.0233\n",
      "Epoch 45/100\n",
      "50/50 [==============================] - 2613s 52s/step - loss: 0.0227 - val_loss: 0.0219\n",
      "Epoch 46/100\n",
      "50/50 [==============================] - 2605s 52s/step - loss: 0.0226 - val_loss: 0.0218\n",
      "Epoch 47/100\n",
      "50/50 [==============================] - 2608s 52s/step - loss: 0.0222 - val_loss: 0.0234\n",
      "Epoch 48/100\n",
      "50/50 [==============================] - 2633s 53s/step - loss: 0.0215 - val_loss: 0.0214\n",
      "Epoch 49/100\n",
      "50/50 [==============================] - 3093s 62s/step - loss: 0.0226 - val_loss: 0.0221\n",
      "Epoch 50/100\n",
      "50/50 [==============================] - 3621s 72s/step - loss: 0.0220 - val_loss: 0.0218\n",
      "Epoch 51/100\n",
      "50/50 [==============================] - 3672s 73s/step - loss: 0.0221 - val_loss: 0.0229\n",
      "Epoch 52/100\n",
      "50/50 [==============================] - 3654s 73s/step - loss: 0.0232 - val_loss: 0.0229\n",
      "Epoch 53/100\n",
      "50/50 [==============================] - 3613s 72s/step - loss: 0.0226 - val_loss: 0.0227\n",
      "Epoch 54/100\n",
      "50/50 [==============================] - 3593s 72s/step - loss: 0.0221 - val_loss: 0.0222\n",
      "Epoch 55/100\n",
      "50/50 [==============================] - 3594s 72s/step - loss: 0.0217 - val_loss: 0.0224\n",
      "Epoch 56/100\n",
      "50/50 [==============================] - 3598s 72s/step - loss: 0.0230 - val_loss: 0.0226\n",
      "Epoch 57/100\n",
      "50/50 [==============================] - 3606s 72s/step - loss: 0.0223 - val_loss: 0.0255\n",
      "Epoch 58/100\n",
      "50/50 [==============================] - 3663s 73s/step - loss: 0.0220 - val_loss: 0.0219\n",
      "Epoch 59/100\n",
      "50/50 [==============================] - 3622s 72s/step - loss: 0.0228 - val_loss: 0.0215\n",
      "Epoch 60/100\n",
      "50/50 [==============================] - 3602s 72s/step - loss: 0.0209 - val_loss: 0.0231\n",
      "Epoch 61/100\n",
      "50/50 [==============================] - 3656s 73s/step - loss: 0.0227 - val_loss: 0.0224\n",
      "Epoch 62/100\n",
      "50/50 [==============================] - 3601s 72s/step - loss: 0.0220 - val_loss: 0.0216\n",
      "Epoch 63/100\n",
      "50/50 [==============================] - 3600s 72s/step - loss: 0.0232 - val_loss: 0.0225\n",
      "Epoch 64/100\n",
      "50/50 [==============================] - 3613s 72s/step - loss: 0.0210 - val_loss: 0.0229\n",
      "Epoch 65/100\n",
      "50/50 [==============================] - 3612s 72s/step - loss: 0.0222 - val_loss: 0.0222\n",
      "Epoch 66/100\n",
      "50/50 [==============================] - 3661s 73s/step - loss: 0.0215 - val_loss: 0.0210\n",
      "Epoch 67/100\n",
      "50/50 [==============================] - 3601s 72s/step - loss: 0.0210 - val_loss: 0.0209\n",
      "Epoch 68/100\n",
      "50/50 [==============================] - 3598s 72s/step - loss: 0.0223 - val_loss: 0.0230\n",
      "Epoch 69/100\n",
      "50/50 [==============================] - 3708s 74s/step - loss: 0.0220 - val_loss: 0.0229\n",
      "Epoch 70/100\n",
      "50/50 [==============================] - 3601s 72s/step - loss: 0.0232 - val_loss: 0.0233\n",
      "Epoch 71/100\n",
      "50/50 [==============================] - 3701s 74s/step - loss: 0.0220 - val_loss: 0.0221\n",
      "Epoch 72/100\n",
      "50/50 [==============================] - 3614s 72s/step - loss: 0.0226 - val_loss: 0.0230\n",
      "Epoch 73/100\n",
      "50/50 [==============================] - 3593s 72s/step - loss: 0.0221 - val_loss: 0.0209\n",
      "Epoch 74/100\n",
      "50/50 [==============================] - 3711s 74s/step - loss: 0.0221 - val_loss: 0.0224\n",
      "Epoch 75/100\n",
      "50/50 [==============================] - 3673s 73s/step - loss: 0.0213 - val_loss: 0.0214\n",
      "Epoch 76/100\n",
      "50/50 [==============================] - 3621s 72s/step - loss: 0.0214 - val_loss: 0.0212\n",
      "Epoch 77/100\n",
      "50/50 [==============================] - 3736s 75s/step - loss: 0.0207 - val_loss: 0.0221\n",
      "Epoch 78/100\n",
      "50/50 [==============================] - 3605s 72s/step - loss: 0.0223 - val_loss: 0.0217\n",
      "Epoch 79/100\n",
      "50/50 [==============================] - 3609s 72s/step - loss: 0.0212 - val_loss: 0.0216\n",
      "Epoch 80/100\n"
     ]
    },
    {
     "name": "stdout",
     "output_type": "stream",
     "text": [
      "50/50 [==============================] - 3669s 73s/step - loss: 0.0210 - val_loss: 0.0209\n",
      "Epoch 81/100\n",
      "50/50 [==============================] - 3620s 72s/step - loss: 0.0218 - val_loss: 0.0217\n",
      "Epoch 82/100\n",
      "50/50 [==============================] - 3666s 73s/step - loss: 0.0211 - val_loss: 0.0210\n",
      "Epoch 83/100\n",
      "50/50 [==============================] - 3597s 72s/step - loss: 0.0214 - val_loss: 0.0212\n",
      "Epoch 84/100\n",
      "50/50 [==============================] - 3619s 72s/step - loss: 0.0208 - val_loss: 0.0209\n",
      "Epoch 85/100\n",
      "50/50 [==============================] - 3596s 72s/step - loss: 0.0225 - val_loss: 0.0226\n",
      "Epoch 86/100\n",
      "50/50 [==============================] - 3622s 72s/step - loss: 0.0213 - val_loss: 0.0223\n",
      "Epoch 87/100\n",
      "50/50 [==============================] - 3608s 72s/step - loss: 0.0222 - val_loss: 0.0224\n",
      "Epoch 88/100\n",
      "50/50 [==============================] - 3674s 73s/step - loss: 0.0217 - val_loss: 0.0210\n",
      "Epoch 89/100\n",
      "50/50 [==============================] - 3612s 72s/step - loss: 0.0216 - val_loss: 0.0204\n",
      "Epoch 90/100\n",
      "50/50 [==============================] - 3667s 73s/step - loss: 0.0218 - val_loss: 0.0214\n",
      "Epoch 91/100\n",
      "50/50 [==============================] - 3632s 73s/step - loss: 0.0217 - val_loss: 0.0205\n",
      "Epoch 92/100\n",
      "50/50 [==============================] - 3546s 71s/step - loss: 0.0210 - val_loss: 0.0207\n",
      "Epoch 93/100\n",
      "50/50 [==============================] - 2803s 56s/step - loss: 0.0222 - val_loss: 0.0205\n",
      "Epoch 94/100\n",
      "50/50 [==============================] - 3054s 61s/step - loss: 0.0212 - val_loss: 0.0232\n",
      "Epoch 95/100\n",
      "50/50 [==============================] - 3287s 66s/step - loss: 0.0206 - val_loss: 0.0205\n",
      "Epoch 96/100\n",
      "50/50 [==============================] - 3203s 64s/step - loss: 0.0212 - val_loss: 0.0220\n",
      "Epoch 97/100\n",
      "50/50 [==============================] - 3423s 68s/step - loss: 0.0210 - val_loss: 0.0206\n",
      "Epoch 98/100\n",
      "50/50 [==============================] - 3548s 71s/step - loss: 0.0206 - val_loss: 0.0200\n",
      "Epoch 99/100\n",
      "50/50 [==============================] - 3576s 72s/step - loss: 0.0201 - val_loss: 0.0208\n",
      "Epoch 100/100\n",
      "50/50 [==============================] - 3581s 72s/step - loss: 0.0210 - val_loss: 0.0220\n"
     ]
    }
   ],
   "source": [
    "history = model.fit_generator(\n",
    "    data_generator_training,\n",
    "    steps_per_epoch=steps_per_epoch,\n",
    "    epochs=epochs,\n",
    "    validation_data=data_generator_validation,\n",
    "    verbose=verbose,\n",
    "    callbacks=[\n",
    "#         earlystopping,\n",
    "        csv_logger,\n",
    "    ],\n",
    ")  "
   ]
  },
  {
   "cell_type": "code",
   "execution_count": 24,
   "metadata": {},
   "outputs": [],
   "source": [
    "# df = pd.read_csv(logger_filename)\n",
    "df = pd.read_csv(\"test.log\")\n",
    "\n"
   ]
  },
  {
   "cell_type": "code",
   "execution_count": 25,
   "metadata": {},
   "outputs": [
    {
     "data": {
      "text/plain": [
       "<matplotlib.legend.Legend at 0xb3a976080>"
      ]
     },
     "execution_count": 25,
     "metadata": {},
     "output_type": "execute_result"
    },
    {
     "data": {
      "image/png": "[encoded data removed]",
      "text/plain": [
       "<Figure size 800x480 with 1 Axes>"
      ]
     },
     "metadata": {},
     "output_type": "display_data"
    }
   ],
   "source": [
    "plt.plot(df.loss**.5, label=\"training\")\n",
    "plt.plot(df.val_loss**.5, label=\"validation\")\n",
    "\n",
    "plt.axhline(df_Y.MEDIAN.std(), \n",
    "            linestyle=\"dashed\", color=\"black\",\n",
    "            label=\"std.dev.\",\n",
    "           )\n",
    "\n",
    "plt.xlabel(\"Epoch #\")\n",
    "plt.ylabel(\"RMS Error\")\n",
    "\n",
    "ylim = plt.ylim()\n",
    "\n",
    "plt.ylim(top=min(1, max(ylim)))\n",
    "plt.legend()\n"
   ]
  },
  {
   "cell_type": "code",
   "execution_count": 26,
   "metadata": {},
   "outputs": [
    {
     "data": {
      "text/plain": [
       "0.1534331045974257"
      ]
     },
     "execution_count": 26,
     "metadata": {},
     "output_type": "execute_result"
    }
   ],
   "source": [
    "(df.val_loss[:-10]**.5).mean()"
   ]
  },
  {
   "cell_type": "code",
   "execution_count": null,
   "metadata": {},
   "outputs": [],
   "source": [
    "## (np.partition(df.val_loss, 10)[:10]**.5).mean()"
   ]
  },
  {
   "cell_type": "code",
   "execution_count": null,
   "metadata": {},
   "outputs": [],
   "source": []
  }
 ],
 "metadata": {
  "kernelspec": {
   "display_name": "Python 3",
   "language": "python",
   "name": "python3"
  },
  "language_info": {
   "codemirror_mode": {
    "name": "ipython",
    "version": 3
   },
   "file_extension": ".py",
   "mimetype": "text/x-python",
   "name": "python",
   "nbconvert_exporter": "python",
   "pygments_lexer": "ipython3",
   "version": "3.6.6"
  }
 },
 "nbformat": 4,
 "nbformat_minor": 2
}
