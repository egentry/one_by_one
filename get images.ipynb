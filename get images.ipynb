{
 "cells": [
  {
   "cell_type": "code",
   "execution_count": null,
   "metadata": {},
   "outputs": [],
   "source": [
    "from matplotlib import pyplot as plt\n",
    "import pandas as pd\n",
    "import numpy as np\n",
    "import os\n",
    "import sys\n",
    "import urllib\n",
    "import time\n",
    "import glob\n",
    "import shutil\n",
    "import warnings\n",
    "\n",
    "import astropy\n",
    "from astropy import wcs\n",
    "from astropy.nddata import Cutout2D\n",
    "from astropy import units as u\n",
    "\n",
    "from collections import namedtuple\n",
    "import multiprocessing\n",
    "\n",
    "\n"
   ]
  },
  {
   "cell_type": "code",
   "execution_count": null,
   "metadata": {},
   "outputs": [],
   "source": [
    "# my home-written modules\n",
    "import image_helpers"
   ]
  },
  {
   "cell_type": "code",
   "execution_count": null,
   "metadata": {},
   "outputs": [],
   "source": [
    "%load_ext autoreload\n",
    "%autoreload 2"
   ]
  },
  {
   "cell_type": "code",
   "execution_count": null,
   "metadata": {},
   "outputs": [],
   "source": [
    "plt.rcParams['savefig.dpi'] = 80*2\n",
    "plt.rcParams['figure.dpi'] = 80*2\n",
    "plt.rcParams['figure.figsize'] = np.array((10,6))*.5\n",
    "plt.rcParams['figure.facecolor'] = \"white\""
   ]
  },
  {
   "cell_type": "code",
   "execution_count": null,
   "metadata": {},
   "outputs": [],
   "source": [
    "data_dir = \"data\""
   ]
  },
  {
   "cell_type": "markdown",
   "metadata": {},
   "source": [
    "# Read in data"
   ]
  },
  {
   "cell_type": "code",
   "execution_count": null,
   "metadata": {},
   "outputs": [],
   "source": [
    "df = pd.read_csv(os.path.join(data_dir, \"matched_galaxies.csv\"))\n",
    "df = df.set_index(\"SpecObjID\")\n",
    "print(df.shape)\n",
    "df.head()"
   ]
  },
  {
   "cell_type": "markdown",
   "metadata": {},
   "source": [
    "# Figure out which fields we need to download"
   ]
  },
  {
   "cell_type": "code",
   "execution_count": null,
   "metadata": {},
   "outputs": [],
   "source": [
    "Identifier = namedtuple(\"Identifier\", \n",
    "                        [\n",
    "#                             \"rerun\",\n",
    "                            \"run\", \n",
    "                            \"camcol\",\n",
    "                            \"field\",\n",
    "                        ])\n",
    "\n"
   ]
  },
  {
   "cell_type": "code",
   "execution_count": null,
   "metadata": {},
   "outputs": [],
   "source": [
    "frame_id_to_galaxy_ids = {}\n",
    "\n",
    "for i, row in df.iterrows():\n",
    "    identifier = Identifier(\n",
    "#                   row.rerun, \n",
    "                  row.run,\n",
    "                  row.camcol,\n",
    "                  row.field,\n",
    "                 )\n",
    "    \n",
    "    if identifier in frame_id_to_galaxy_ids:\n",
    "        frame_id_to_galaxy_ids[identifier] |= set((row.name, ))\n",
    "    else:\n",
    "        frame_id_to_galaxy_ids[identifier] = set((row.name, ))"
   ]
  },
  {
   "cell_type": "code",
   "execution_count": null,
   "metadata": {},
   "outputs": [],
   "source": [
    "frame_id_to_galaxy_ids"
   ]
  },
  {
   "cell_type": "code",
   "execution_count": null,
   "metadata": {},
   "outputs": [],
   "source": [
    "len_list = [len(frame_id_to_galaxy_ids[key]) for key in frame_id_to_galaxy_ids]"
   ]
  },
  {
   "cell_type": "code",
   "execution_count": null,
   "metadata": {},
   "outputs": [],
   "source": [
    "len(len_list)"
   ]
  },
  {
   "cell_type": "code",
   "execution_count": null,
   "metadata": {},
   "outputs": [],
   "source": [
    "sum(len_list)"
   ]
  },
  {
   "cell_type": "code",
   "execution_count": null,
   "metadata": {},
   "outputs": [],
   "source": [
    "len_list"
   ]
  },
  {
   "cell_type": "markdown",
   "metadata": {},
   "source": [
    "# Get galaxy images via Globus\n",
    "More overhead to setup, but better for bulk transfers.\n",
    "\n",
    "You'll need to sign up for globus, install it on your local machine (both the desktop application and the Command Line Interface), and get properly logged into the CLI.\n",
    "\n",
    "Also, you'll need to change the destination endpoint below with your personal endpoint "
   ]
  },
  {
   "cell_type": "code",
   "execution_count": null,
   "metadata": {},
   "outputs": [],
   "source": [
    "source_endpoint = \"db57ddf2-6d04-11e5-ba46-22000b92c6ec\"\n",
    "destination_endpoint = \"9278d8fe-e7b4-11e8-8c9c-0a1d4c5c824a\"\n"
   ]
  },
  {
   "cell_type": "code",
   "execution_count": null,
   "metadata": {},
   "outputs": [],
   "source": [
    "# store files here after downloading and while making cutouts\n",
    "# but then transfer to the long-term storage at `raw_data_dir`\n",
    "short_term_raw_data_dir = \"/Users/egentry/test_globus/\"\n",
    "\n",
    "globus_path = \"/uufs/chpc.utah.edu/common/home/sdss/dr14/eboss/photoObj/frames/301/{run}/{camcol}/frame-{band}-{run:>06d}-{camcol}-{field:>04d}.fits.bz2\"\n",
    "\n",
    "\n",
    "images_per_batch = 10000"
   ]
  },
  {
   "cell_type": "code",
   "execution_count": null,
   "metadata": {},
   "outputs": [],
   "source": [
    "assert(os.path.exists(short_term_raw_data_dir)) # make sure the drive is mounted\n",
    "assert(os.path.exists(image_helpers.raw_data_dir)) # make sure the drive is mounted\n",
    "\n",
    "filename_format = os.path.join(short_term_raw_data_dir, \"file_list_{:>03d}\")\n",
    "dirname_format = os.path.join(short_term_raw_data_dir, \"{}\", \"\")\n",
    "batch_counter = 0\n",
    "image_counter = 0\n",
    "f = open(filename_format.format(batch_counter), \"w\")\n",
    "print(\"# SOURCE_PATH DEST_PATH\", file=f)\n",
    "dirname = dirname_format.format(batch_counter)\n",
    "\n",
    "for i, key in enumerate(frame_id_to_galaxy_ids):\n",
    "# for i, key in ((0, Identifier(3325,2,15)), (1, Identifier(3325,2,16))):\n",
    "\n",
    "    for band in image_helpers.bands:\n",
    "    \n",
    "        remote_path = globus_path.format(\n",
    "            band=band, **key._asdict(),\n",
    "        )\n",
    "        filename = os.path.split(remote_path)[-1]\n",
    "        if os.path.exists(os.path.join(image_helpers.raw_data_dir, filename)):\n",
    "            continue\n",
    "        \n",
    "        # filter out files which don't actually exist (but give a warning)\n",
    "        url_base = \"http://data.sdss.org/sas/dr14/eboss/photoObj/frames/301/{run}/{camcol}/frame-{band}-{run:>06d}-{camcol}-{field:>04d}.fits.bz2\"\n",
    "        http_url = url_base.format(run=key.run, camcol=key.camcol, field=key.field, band=band,)\n",
    "        try:\n",
    "            urllib.request.urlopen(urllib.request.Request(http_url, method=\"HEAD\"))\n",
    "        except urllib.error.HTTPError as e:\n",
    "            if e.code == 404:\n",
    "                warnings.warn(\"Missing remote image file: {}-{}-{}-{}\".format(\n",
    "                    key.run, key.camcol, key.field, band,\n",
    "                    ))\n",
    "                continue\n",
    "            else:\n",
    "                raise e\n",
    "            \n",
    "        if image_counter == images_per_batch:\n",
    "            f.close()\n",
    "            batch_counter += 1\n",
    "            image_counter = 0\n",
    "#             if batch_counter > 10:\n",
    "#                 assert(False) # cutoff early; that's more than enough for now\n",
    "            f = open(filename_format.format(batch_counter), \"w\")\n",
    "            print(\"# SOURCE_PATH DEST_PATH\", file=f)\n",
    "            dirname = dirname_format.format(batch_counter)\n",
    "            \n",
    "        local_path = os.path.join(dirname, filename)\n",
    "\n",
    "        print(remote_path, local_path, file=f)\n",
    "        \n",
    "        image_counter += 1\n",
    "\n",
    "f.close()"
   ]
  },
  {
   "cell_type": "markdown",
   "metadata": {},
   "source": [
    "### Globus CLI calls\n",
    "\n",
    "It's probably best to run these manually, rather than programmatically, since I don't want to have to worry about waiting until each particular batch is complete:\n",
    "\n",
    "```\n",
    "BATCH=\"000\" && globus transfer  db57ddf2-6d04-11e5-ba46-22000b92c6ec 9278d8fe-e7b4-11e8-8c9c-0a1d4c5c824a --preserve-mtime --label=batch_${BATCH} --batch < file_list_${BATCH}\n",
    "```\n",
    "\n",
    "(If you do want to wait, you could try [`globus task wait`](https://docs.globus.org/cli/reference/task_wait/), or see if that exists in the python SDK.\n",
    "\n",
    "Remember 10k images is about 30 GB."
   ]
  },
  {
   "cell_type": "markdown",
   "metadata": {},
   "source": [
    "## Now get cutouts of a batch"
   ]
  },
  {
   "cell_type": "code",
   "execution_count": null,
   "metadata": {},
   "outputs": [],
   "source": [
    "copy_raw_image_after_cutout = True\n",
    "delete_old_raw_image = True"
   ]
  },
  {
   "cell_type": "code",
   "execution_count": null,
   "metadata": {},
   "outputs": [],
   "source": [
    "batches = [ \n",
    "    \"33\", \"34\", \"35\", \n",
    "]\n",
    "\n",
    "for batch in batches:\n",
    "    print(\"starting batch\", batch, flush=True)\n",
    "\n",
    "    batch_raw_data_dir = os.path.join(short_term_raw_data_dir,\n",
    "                                      batch)\n",
    "    if not os.path.exists(batch_raw_data_dir):\n",
    "        print(\"stopping because batch {} doesn't exist\".format(batch))\n",
    "        break\n",
    "\n",
    "    filenames = glob.glob(os.path.join(batch_raw_data_dir, \n",
    "                                       \"*.fits.bz2\"))\n",
    "    \n",
    "    if len(filenames) != images_per_batch:\n",
    "        # note: the very last batch will have less files,\n",
    "        # and you'll need to add the proper `if` statement here\n",
    "        print(\"stopping because batch {} doesn't contain enough files\".format(\n",
    "        batch))\n",
    "        break\n",
    "\n",
    "    def create_cutout(filename):\n",
    "        hdu = astropy.io.fits.open(filename)[0]\n",
    "        run = hdu.header[\"RUN\"]\n",
    "        camcol = hdu.header[\"CAMCOL\"]\n",
    "        field = int(os.path.split(filename)[-1]\n",
    "                           .split(\".\")[0]\n",
    "                           .split(\"-\")[-1])\n",
    "        band = hdu.header[\"FILTER\"]\n",
    "\n",
    "        identifier = Identifier(run, camcol, field)\n",
    "        old_header = hdu.header.copy()\n",
    "\n",
    "        galaxies_in_frame = frame_id_to_galaxy_ids[identifier]\n",
    "        for galaxy_id in galaxies_in_frame:\n",
    "            cutout_filename = image_helpers.get_cutout_filename(\n",
    "                galaxy_id, band, data_dir=data_dir\n",
    "            )\n",
    "\n",
    "            try:\n",
    "                cutout_hdu = image_helpers.get_cutout(hdu,\n",
    "                                        df.loc[galaxy_id].ra,\n",
    "                                        df.loc[galaxy_id].dec,\n",
    "                                       )\n",
    "            except RuntimeError as e:\n",
    "                print(\"Problematic galaxy id = {}\".format(galaxy_id))\n",
    "                print(\"Problematic image = {}\".format(filename))\n",
    "                raise e\n",
    "\n",
    "\n",
    "            parent = os.path.split(cutout_filename)[0]\n",
    "            if not os.path.exists(parent):\n",
    "                os.makedirs(parent)\n",
    "            cutout_hdu.writeto(cutout_filename, overwrite=True)\n",
    "\n",
    "        if copy_raw_image_after_cutout:\n",
    "            basename = os.path.split(filename)[-1]\n",
    "            shutil.copy2(filename,\n",
    "                      os.path.join(image_helpers.raw_data_dir, basename),\n",
    "                     )\n",
    "\n",
    "            if delete_old_raw_image:\n",
    "                os.remove(filename)\n",
    "\n",
    "    with multiprocessing.Pool() as pool:\n",
    "        pool.map(create_cutout, filenames)\n",
    "\n",
    "    if delete_old_raw_image:\n",
    "        if len(glob.glob(os.path.join(batch_raw_data_dir, \"*\")))==0:\n",
    "            os.rmdir(batch_raw_data_dir)"
   ]
  },
  {
   "cell_type": "code",
   "execution_count": null,
   "metadata": {},
   "outputs": [],
   "source": []
  }
 ],
 "metadata": {
  "kernelspec": {
   "display_name": "Python 3",
   "language": "python",
   "name": "python3"
  },
  "language_info": {
   "codemirror_mode": {
    "name": "ipython",
    "version": 3
   },
   "file_extension": ".py",
   "mimetype": "text/x-python",
   "name": "python",
   "nbconvert_exporter": "python",
   "pygments_lexer": "ipython3",
   "version": "3.6.7"
  },
  "widgets": {
   "state": {},
   "version": "1.1.2"
  }
 },
 "nbformat": 4,
 "nbformat_minor": 2
}
