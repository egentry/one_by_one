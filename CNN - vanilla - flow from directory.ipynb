{
 "cells": [
  {
   "cell_type": "code",
   "execution_count": 1,
   "metadata": {},
   "outputs": [],
   "source": [
    "from matplotlib import pyplot as plt\n",
    "import pandas as pd\n",
    "import numpy as np\n",
    "import os\n",
    "import sys\n",
    "\n",
    "import astropy\n",
    "from astropy import wcs\n",
    "from astropy.nddata import Cutout2D\n",
    "from astropy import units as u\n",
    "\n",
    "from collections import namedtuple\n",
    "\n",
    "\n",
    "import glob\n"
   ]
  },
  {
   "cell_type": "code",
   "execution_count": 2,
   "metadata": {},
   "outputs": [
    {
     "name": "stderr",
     "output_type": "stream",
     "text": [
      "Using TensorFlow backend.\n"
     ]
    }
   ],
   "source": [
    "import keras\n",
    "from keras import backend as K\n",
    "K.set_image_data_format('channels_first')"
   ]
  },
  {
   "cell_type": "code",
   "execution_count": 3,
   "metadata": {},
   "outputs": [],
   "source": [
    "# my home-written modules\n",
    "import image_helpers\n",
    "import split_sets\n",
    "import model_helpers"
   ]
  },
  {
   "cell_type": "code",
   "execution_count": 4,
   "metadata": {},
   "outputs": [],
   "source": [
    "%load_ext autoreload\n",
    "%autoreload 2"
   ]
  },
  {
   "cell_type": "code",
   "execution_count": 5,
   "metadata": {},
   "outputs": [],
   "source": [
    "plt.rcParams['savefig.dpi'] = 80*2\n",
    "plt.rcParams['figure.dpi'] = 80*2\n",
    "plt.rcParams['figure.figsize'] = np.array((10,6))*.5\n",
    "plt.rcParams['figure.facecolor'] = \"white\""
   ]
  },
  {
   "cell_type": "code",
   "execution_count": 6,
   "metadata": {},
   "outputs": [],
   "source": [
    "data_dir = image_helpers.data_dir\n"
   ]
  },
  {
   "cell_type": "markdown",
   "metadata": {},
   "source": [
    "# Load data"
   ]
  },
  {
   "cell_type": "code",
   "execution_count": 7,
   "metadata": {},
   "outputs": [
    {
     "name": "stdout",
     "output_type": "stream",
     "text": [
      "(129702, 88)\n"
     ]
    },
    {
     "data": {
      "text/html": [
       "<div>\n",
       "<style scoped>\n",
       "    .dataframe tbody tr th:only-of-type {\n",
       "        vertical-align: middle;\n",
       "    }\n",
       "\n",
       "    .dataframe tbody tr th {\n",
       "        vertical-align: top;\n",
       "    }\n",
       "\n",
       "    .dataframe thead th {\n",
       "        text-align: right;\n",
       "    }\n",
       "</style>\n",
       "<table border=\"1\" class=\"dataframe\">\n",
       "  <thead>\n",
       "    <tr style=\"text-align: right;\">\n",
       "      <th></th>\n",
       "      <th>BESTOBJID</th>\n",
       "      <th>FIBERID</th>\n",
       "      <th>HTMID</th>\n",
       "      <th>PLATEID</th>\n",
       "      <th>SPECOBJID</th>\n",
       "      <th>SPECTROGRAPHID</th>\n",
       "      <th>TARGETID</th>\n",
       "      <th>TARGETOBJID</th>\n",
       "      <th>OBJTYPENAME</th>\n",
       "      <th>SCIENCEPRIMARY</th>\n",
       "      <th>...</th>\n",
       "      <th>primTarget</th>\n",
       "      <th>secTarget</th>\n",
       "      <th>extinction_u</th>\n",
       "      <th>extinction_g</th>\n",
       "      <th>extinction_r</th>\n",
       "      <th>extinction_i</th>\n",
       "      <th>extinction_z</th>\n",
       "      <th>htmID</th>\n",
       "      <th>fieldID</th>\n",
       "      <th>size</th>\n",
       "    </tr>\n",
       "    <tr>\n",
       "      <th>SpecObjID</th>\n",
       "      <th></th>\n",
       "      <th></th>\n",
       "      <th></th>\n",
       "      <th></th>\n",
       "      <th></th>\n",
       "      <th></th>\n",
       "      <th></th>\n",
       "      <th></th>\n",
       "      <th></th>\n",
       "      <th></th>\n",
       "      <th></th>\n",
       "      <th></th>\n",
       "      <th></th>\n",
       "      <th></th>\n",
       "      <th></th>\n",
       "      <th></th>\n",
       "      <th></th>\n",
       "      <th></th>\n",
       "      <th></th>\n",
       "      <th></th>\n",
       "      <th></th>\n",
       "    </tr>\n",
       "  </thead>\n",
       "  <tbody>\n",
       "    <tr>\n",
       "      <th>75094093037830144</th>\n",
       "      <td>0</td>\n",
       "      <td>17</td>\n",
       "      <td>10570139305399</td>\n",
       "      <td>75094092966526976</td>\n",
       "      <td>75094093037830144</td>\n",
       "      <td>1</td>\n",
       "      <td>284705867169812</td>\n",
       "      <td>0</td>\n",
       "      <td>GALAXY</td>\n",
       "      <td>1</td>\n",
       "      <td>...</td>\n",
       "      <td>64</td>\n",
       "      <td>0</td>\n",
       "      <td>0.379354</td>\n",
       "      <td>0.279125</td>\n",
       "      <td>0.202445</td>\n",
       "      <td>0.153508</td>\n",
       "      <td>0.108839</td>\n",
       "      <td>10570139305399</td>\n",
       "      <td>587725073921540096</td>\n",
       "      <td>4.297720</td>\n",
       "    </tr>\n",
       "    <tr>\n",
       "      <th>75094093138493440</th>\n",
       "      <td>0</td>\n",
       "      <td>41</td>\n",
       "      <td>10570179932652</td>\n",
       "      <td>75094092966526976</td>\n",
       "      <td>75094093138493440</td>\n",
       "      <td>1</td>\n",
       "      <td>284722522292399</td>\n",
       "      <td>0</td>\n",
       "      <td>GALAXY</td>\n",
       "      <td>1</td>\n",
       "      <td>...</td>\n",
       "      <td>64</td>\n",
       "      <td>0</td>\n",
       "      <td>0.273461</td>\n",
       "      <td>0.201210</td>\n",
       "      <td>0.145934</td>\n",
       "      <td>0.110658</td>\n",
       "      <td>0.078458</td>\n",
       "      <td>10570179932652</td>\n",
       "      <td>588848898824273920</td>\n",
       "      <td>8.377118</td>\n",
       "    </tr>\n",
       "    <tr>\n",
       "      <th>75094093180436480</th>\n",
       "      <td>0</td>\n",
       "      <td>51</td>\n",
       "      <td>10570166742677</td>\n",
       "      <td>75094092966526976</td>\n",
       "      <td>75094093180436480</td>\n",
       "      <td>1</td>\n",
       "      <td>284722522292321</td>\n",
       "      <td>0</td>\n",
       "      <td>GALAXY</td>\n",
       "      <td>1</td>\n",
       "      <td>...</td>\n",
       "      <td>64</td>\n",
       "      <td>0</td>\n",
       "      <td>0.320851</td>\n",
       "      <td>0.236079</td>\n",
       "      <td>0.171224</td>\n",
       "      <td>0.129834</td>\n",
       "      <td>0.092054</td>\n",
       "      <td>10570166742677</td>\n",
       "      <td>588848898824273920</td>\n",
       "      <td>4.254059</td>\n",
       "    </tr>\n",
       "    <tr>\n",
       "      <th>75094093243351040</th>\n",
       "      <td>0</td>\n",
       "      <td>66</td>\n",
       "      <td>10552759033190</td>\n",
       "      <td>75094092966526976</td>\n",
       "      <td>75094093243351040</td>\n",
       "      <td>1</td>\n",
       "      <td>284723059294422</td>\n",
       "      <td>0</td>\n",
       "      <td>GALAXY</td>\n",
       "      <td>1</td>\n",
       "      <td>...</td>\n",
       "      <td>64</td>\n",
       "      <td>0</td>\n",
       "      <td>0.707734</td>\n",
       "      <td>0.520744</td>\n",
       "      <td>0.377687</td>\n",
       "      <td>0.286388</td>\n",
       "      <td>0.203053</td>\n",
       "      <td>10552759030425</td>\n",
       "      <td>588848899361275904</td>\n",
       "      <td>3.969658</td>\n",
       "    </tr>\n",
       "    <tr>\n",
       "      <th>75094093398540288</th>\n",
       "      <td>0</td>\n",
       "      <td>103</td>\n",
       "      <td>10552790951266</td>\n",
       "      <td>75094092966526976</td>\n",
       "      <td>75094093398540288</td>\n",
       "      <td>1</td>\n",
       "      <td>284723596034444</td>\n",
       "      <td>0</td>\n",
       "      <td>GALAXY</td>\n",
       "      <td>1</td>\n",
       "      <td>...</td>\n",
       "      <td>64</td>\n",
       "      <td>0</td>\n",
       "      <td>0.821007</td>\n",
       "      <td>0.604089</td>\n",
       "      <td>0.438136</td>\n",
       "      <td>0.332225</td>\n",
       "      <td>0.235552</td>\n",
       "      <td>10552790951266</td>\n",
       "      <td>588848899898015744</td>\n",
       "      <td>12.901030</td>\n",
       "    </tr>\n",
       "  </tbody>\n",
       "</table>\n",
       "<p>5 rows × 88 columns</p>\n",
       "</div>"
      ],
      "text/plain": [
       "                   BESTOBJID  FIBERID           HTMID            PLATEID  \\\n",
       "SpecObjID                                                                  \n",
       "75094093037830144          0       17  10570139305399  75094092966526976   \n",
       "75094093138493440          0       41  10570179932652  75094092966526976   \n",
       "75094093180436480          0       51  10570166742677  75094092966526976   \n",
       "75094093243351040          0       66  10552759033190  75094092966526976   \n",
       "75094093398540288          0      103  10552790951266  75094092966526976   \n",
       "\n",
       "                           SPECOBJID  SPECTROGRAPHID         TARGETID  \\\n",
       "SpecObjID                                                               \n",
       "75094093037830144  75094093037830144               1  284705867169812   \n",
       "75094093138493440  75094093138493440               1  284722522292399   \n",
       "75094093180436480  75094093180436480               1  284722522292321   \n",
       "75094093243351040  75094093243351040               1  284723059294422   \n",
       "75094093398540288  75094093398540288               1  284723596034444   \n",
       "\n",
       "                   TARGETOBJID OBJTYPENAME  SCIENCEPRIMARY    ...      \\\n",
       "SpecObjID                                                     ...       \n",
       "75094093037830144            0      GALAXY               1    ...       \n",
       "75094093138493440            0      GALAXY               1    ...       \n",
       "75094093180436480            0      GALAXY               1    ...       \n",
       "75094093243351040            0      GALAXY               1    ...       \n",
       "75094093398540288            0      GALAXY               1    ...       \n",
       "\n",
       "                   primTarget  secTarget  extinction_u  extinction_g  \\\n",
       "SpecObjID                                                              \n",
       "75094093037830144          64          0      0.379354      0.279125   \n",
       "75094093138493440          64          0      0.273461      0.201210   \n",
       "75094093180436480          64          0      0.320851      0.236079   \n",
       "75094093243351040          64          0      0.707734      0.520744   \n",
       "75094093398540288          64          0      0.821007      0.604089   \n",
       "\n",
       "                   extinction_r  extinction_i  extinction_z           htmID  \\\n",
       "SpecObjID                                                                     \n",
       "75094093037830144      0.202445      0.153508      0.108839  10570139305399   \n",
       "75094093138493440      0.145934      0.110658      0.078458  10570179932652   \n",
       "75094093180436480      0.171224      0.129834      0.092054  10570166742677   \n",
       "75094093243351040      0.377687      0.286388      0.203053  10552759030425   \n",
       "75094093398540288      0.438136      0.332225      0.235552  10552790951266   \n",
       "\n",
       "                              fieldID       size  \n",
       "SpecObjID                                         \n",
       "75094093037830144  587725073921540096   4.297720  \n",
       "75094093138493440  588848898824273920   8.377118  \n",
       "75094093180436480  588848898824273920   4.254059  \n",
       "75094093243351040  588848899361275904   3.969658  \n",
       "75094093398540288  588848899898015744  12.901030  \n",
       "\n",
       "[5 rows x 88 columns]"
      ]
     },
     "execution_count": 7,
     "metadata": {},
     "output_type": "execute_result"
    }
   ],
   "source": [
    "df = pd.read_csv(os.path.join(data_dir, \"matched_galaxies.csv\"))\n",
    "df = df.set_index(\"SpecObjID\")\n",
    "print(df.shape)\n",
    "df.head()"
   ]
  },
  {
   "cell_type": "code",
   "execution_count": 8,
   "metadata": {},
   "outputs": [
    {
     "data": {
      "text/html": [
       "<div>\n",
       "<style scoped>\n",
       "    .dataframe tbody tr th:only-of-type {\n",
       "        vertical-align: middle;\n",
       "    }\n",
       "\n",
       "    .dataframe tbody tr th {\n",
       "        vertical-align: top;\n",
       "    }\n",
       "\n",
       "    .dataframe thead th {\n",
       "        text-align: right;\n",
       "    }\n",
       "</style>\n",
       "<table border=\"1\" class=\"dataframe\">\n",
       "  <thead>\n",
       "    <tr style=\"text-align: right;\">\n",
       "      <th></th>\n",
       "      <th>MEDIAN</th>\n",
       "    </tr>\n",
       "    <tr>\n",
       "      <th>SpecObjID</th>\n",
       "      <th></th>\n",
       "    </tr>\n",
       "  </thead>\n",
       "  <tbody>\n",
       "    <tr>\n",
       "      <th>75094093037830144</th>\n",
       "      <td>9.052521</td>\n",
       "    </tr>\n",
       "    <tr>\n",
       "      <th>75094093138493440</th>\n",
       "      <td>9.136789</td>\n",
       "    </tr>\n",
       "    <tr>\n",
       "      <th>75094093180436480</th>\n",
       "      <td>9.050070</td>\n",
       "    </tr>\n",
       "    <tr>\n",
       "      <th>75094093243351040</th>\n",
       "      <td>9.131351</td>\n",
       "    </tr>\n",
       "    <tr>\n",
       "      <th>75094093398540288</th>\n",
       "      <td>8.706560</td>\n",
       "    </tr>\n",
       "  </tbody>\n",
       "</table>\n",
       "</div>"
      ],
      "text/plain": [
       "                     MEDIAN\n",
       "SpecObjID                  \n",
       "75094093037830144  9.052521\n",
       "75094093138493440  9.136789\n",
       "75094093180436480  9.050070\n",
       "75094093243351040  9.131351\n",
       "75094093398540288  8.706560"
      ]
     },
     "execution_count": 8,
     "metadata": {},
     "output_type": "execute_result"
    }
   ],
   "source": [
    "# targets\n",
    "df_Y = df[[\"MEDIAN\"]]\n",
    "df_Y.head()\n"
   ]
  },
  {
   "cell_type": "code",
   "execution_count": 9,
   "metadata": {},
   "outputs": [
    {
     "name": "stdout",
     "output_type": "stream",
     "text": [
      "MEDIAN    0.040022\n",
      "dtype: float64\n"
     ]
    },
    {
     "data": {
      "image/png": "[encoded data removed]",
      "text/plain": [
       "<Figure size 800x480 with 1 Axes>"
      ]
     },
     "metadata": {},
     "output_type": "display_data"
    }
   ],
   "source": [
    "plt.hist(df_Y.MEDIAN.values, bins=30)\n",
    "print(df_Y.var())"
   ]
  },
  {
   "cell_type": "code",
   "execution_count": 10,
   "metadata": {},
   "outputs": [],
   "source": [
    "ids_with_images = glob.glob(os.path.join(data_dir, \n",
    "                                         \"images\",\n",
    "                                         \"processed\",\n",
    "                                         \"*.npy\"))\n",
    "ids_with_images = [os.path.split(filename)[1].replace(\".npy\", \"\")\n",
    "                   for filename in ids_with_images]\n",
    "ids_with_images = np.array(ids_with_images, dtype=int)\n",
    "\n",
    "ids_with_images_full = ids_with_images.copy()\n",
    "# ids_with_images = ids_with_images[:10000]"
   ]
  },
  {
   "cell_type": "markdown",
   "metadata": {},
   "source": [
    "# Split training and validation"
   ]
  },
  {
   "cell_type": "code",
   "execution_count": 11,
   "metadata": {},
   "outputs": [
    {
     "name": "stderr",
     "output_type": "stream",
     "text": [
      "/Users/egentry/anaconda3/envs/tf/lib/python3.6/site-packages/ipykernel_launcher.py:6: SettingWithCopyWarning: \n",
      "A value is trying to be set on a copy of a slice from a DataFrame.\n",
      "Try using .loc[row_indexer,col_indexer] = value instead\n",
      "\n",
      "See the caveats in the documentation: http://pandas.pydata.org/pandas-docs/stable/indexing.html#indexing-view-versus-copy\n",
      "  \n"
     ]
    }
   ],
   "source": [
    "id_sets = split_sets.split_indices(ids_with_images, \n",
    "                                   num_testing=0, # keep 0 while testing out the code\n",
    "                                  )\n",
    "training_ids, validation_ids, _ = id_sets\n",
    "\n",
    "df_Y[\"target\"] = df_Y[\"MEDIAN\"] - df_Y.loc[training_ids].MEDIAN.mean()"
   ]
  },
  {
   "cell_type": "code",
   "execution_count": 12,
   "metadata": {},
   "outputs": [],
   "source": [
    "image_filename_format = os.path.join(data_dir, \n",
    "                                     \"images\", \n",
    "                                     \"processed\", \n",
    "                                     \"{}.npy\")"
   ]
  },
  {
   "cell_type": "code",
   "execution_count": 13,
   "metadata": {},
   "outputs": [],
   "source": [
    "class ReadFromDiskSequence(keras.utils.Sequence):\n",
    "\n",
    "    def __init__(self, training_ids, \n",
    "                 df_Y=df_Y,\n",
    "                 batch_size=128,\n",
    "                 max_num_batches=2**31,\n",
    "                 num_channels=5,\n",
    "                 image_shape=(95,95),\n",
    "                 image_filename_format=image_filename_format,\n",
    "                 horizontal_flip=True,\n",
    "                 verticle_flip=True,\n",
    "                 shuffle_each_epoch=True,\n",
    "                ):\n",
    "        self.training_ids = training_ids\n",
    "        self.df_Y = df_Y\n",
    "        self.batch_size = batch_size\n",
    "        self.num_batches = min(\n",
    "            int(np.ceil(len(training_ids) / batch_size)),\n",
    "            max_num_batches,\n",
    "               )\n",
    "        self.batch_images_shape = (batch_size, \n",
    "                                   num_channels, \n",
    "                                   *image_shape)\n",
    "        \n",
    "        self.filename_format = image_filename_format\n",
    "        \n",
    "        self.shuffle_each_epoch = shuffle_each_epoch\n",
    "        \n",
    "        # data augmentation options\n",
    "        self.horizontal_flip = horizontal_flip\n",
    "        self.verticle_flip = verticle_flip\n",
    "        \n",
    "        self.on_epoch_end()\n",
    "        \n",
    "\n",
    "    def __len__(self):\n",
    "        return self.num_batches\n",
    "    \n",
    "    def on_epoch_end(self):\n",
    "        if self.shuffle_each_epoch:\n",
    "            self.shuffled_ids = np.random.permutation(training_ids)\n",
    "        else:\n",
    "            self.shuffled_ids = training_ids\n",
    "\n",
    "\n",
    "    def __getitem__(self, idx):\n",
    "        batch_ids = self.shuffled_ids[idx*self.batch_size:\n",
    "                                      (idx+1)*self.batch_size]\n",
    "\n",
    "        X = np.empty(self.batch_images_shape)\n",
    "        for i, galaxy_id in enumerate(batch_ids):\n",
    "            img = np.load(self.filename_format.format(galaxy_id))\n",
    "            if self.verticle_flip:\n",
    "                if np.random.choice((True, False)):\n",
    "                    img = img[:,:,::-1]\n",
    "            if self.horizontal_flip:\n",
    "                if np.random.choice((True, False)):\n",
    "                    img = img[:,::-1,:]\n",
    "            X[i] = img\n",
    "        Y = df_Y.loc[batch_ids].target.values.flatten()\n",
    "\n",
    "        return X, Y\n"
   ]
  },
  {
   "cell_type": "code",
   "execution_count": 14,
   "metadata": {},
   "outputs": [],
   "source": [
    "data_generator_training = ReadFromDiskSequence(training_ids,\n",
    "                                               max_num_batches=50)\n",
    "data_generator_validation  = ReadFromDiskSequence(validation_ids,\n",
    "                                                  max_num_batches=50)\n",
    "\n",
    "res = data_generator_training.__getitem__(1)"
   ]
  },
  {
   "cell_type": "code",
   "execution_count": 15,
   "metadata": {},
   "outputs": [
    {
     "data": {
      "text/plain": [
       "(128, 5, 95, 95)"
      ]
     },
     "execution_count": 15,
     "metadata": {},
     "output_type": "execute_result"
    }
   ],
   "source": [
    "res[0].shape"
   ]
  },
  {
   "cell_type": "code",
   "execution_count": 16,
   "metadata": {},
   "outputs": [
    {
     "data": {
      "text/plain": [
       "(128,)"
      ]
     },
     "execution_count": 16,
     "metadata": {},
     "output_type": "execute_result"
    }
   ],
   "source": [
    "res[1].shape"
   ]
  },
  {
   "cell_type": "code",
   "execution_count": 17,
   "metadata": {},
   "outputs": [],
   "source": [
    "K.set_session(\n",
    "    K.tf.Session(\n",
    "        config=K.tf.ConfigProto(intra_op_parallelism_threads=4, \n",
    "                                inter_op_parallelism_threads=4)\n",
    "    )\n",
    ")\n",
    "\n",
    "model = model_helpers.build_model((5,95,95),\n",
    "                                  with_one_by_one=False,\n",
    "                                 )\n",
    "\n",
    "logger_filename = \"./test.vanilla.log\"\n",
    "model = model_helpers.compile_model(model, logger_filename)"
   ]
  },
  {
   "cell_type": "code",
   "execution_count": 18,
   "metadata": {},
   "outputs": [],
   "source": [
    "earlystopping = keras.callbacks.EarlyStopping(monitor='loss',\n",
    "                              patience=35,\n",
    "                              verbose=1,\n",
    "                              mode='auto' )\n"
   ]
  },
  {
   "cell_type": "code",
   "execution_count": 19,
   "metadata": {},
   "outputs": [],
   "source": [
    "csv_logger = keras.callbacks.CSVLogger(logger_filename,\n",
    "                                       append=True)"
   ]
  },
  {
   "cell_type": "code",
   "execution_count": 21,
   "metadata": {},
   "outputs": [],
   "source": [
    "# modelcheckpoint = keras.callbacks.ModelCheckpoint(pathinCat+'Models/bestmodelMAG.hdf5',monitor='val_loss',verbose=0,save_best_only=True)\n"
   ]
  },
  {
   "cell_type": "markdown",
   "metadata": {},
   "source": [
    "# Run Model"
   ]
  },
  {
   "cell_type": "code",
   "execution_count": 29,
   "metadata": {},
   "outputs": [
    {
     "name": "stdout",
     "output_type": "stream",
     "text": [
      "steps_per_epoch:  50\n",
      "batch_size:  128\n"
     ]
    }
   ],
   "source": [
    "batch_size = data_generator_training.batch_size\n",
    "steps_per_epoch = data_generator_training.num_batches\n",
    "print(\"steps_per_epoch: \", steps_per_epoch)\n",
    "print(\"batch_size: \", batch_size)\n",
    "epochs = 100\n",
    "verbose = 1"
   ]
  },
  {
   "cell_type": "code",
   "execution_count": 30,
   "metadata": {},
   "outputs": [
    {
     "name": "stdout",
     "output_type": "stream",
     "text": [
      "Epoch 1/100\n",
      "50/50 [==============================] - 2525s 50s/step - loss: 0.0262 - val_loss: 0.0253\n",
      "Epoch 2/100\n",
      "50/50 [==============================] - 2489s 50s/step - loss: 0.0268 - val_loss: 0.0270\n",
      "Epoch 3/100\n",
      "50/50 [==============================] - 2498s 50s/step - loss: 0.0259 - val_loss: 0.0255\n",
      "Epoch 4/100\n",
      "50/50 [==============================] - 2536s 51s/step - loss: 0.0249 - val_loss: 0.0256\n",
      "Epoch 5/100\n",
      "50/50 [==============================] - 2539s 51s/step - loss: 0.0266 - val_loss: 0.0269\n",
      "Epoch 6/100\n",
      "50/50 [==============================] - 2483s 50s/step - loss: 0.0268 - val_loss: 0.0276\n",
      "Epoch 7/100\n",
      "50/50 [==============================] - 2490s 50s/step - loss: 0.0264 - val_loss: 0.0251\n",
      "Epoch 8/100\n",
      "50/50 [==============================] - 2468s 49s/step - loss: 0.0249 - val_loss: 0.0268\n",
      "Epoch 9/100\n",
      "50/50 [==============================] - 2484s 50s/step - loss: 0.0252 - val_loss: 0.0259\n",
      "Epoch 10/100\n",
      "50/50 [==============================] - 2486s 50s/step - loss: 0.0251 - val_loss: 0.0258\n",
      "Epoch 11/100\n",
      "50/50 [==============================] - 2468s 49s/step - loss: 0.0261 - val_loss: 0.0258\n",
      "Epoch 12/100\n",
      "50/50 [==============================] - 2482s 50s/step - loss: 0.0257 - val_loss: 0.0256\n",
      "Epoch 13/100\n",
      "50/50 [==============================] - 2488s 50s/step - loss: 0.0251 - val_loss: 0.0261\n",
      "Epoch 14/100\n",
      "50/50 [==============================] - 2540s 51s/step - loss: 0.0256 - val_loss: 0.0255\n",
      "Epoch 15/100\n",
      "50/50 [==============================] - 2478s 50s/step - loss: 0.0249 - val_loss: 0.0254\n",
      "Epoch 16/100\n",
      "50/50 [==============================] - 2493s 50s/step - loss: 0.0262 - val_loss: 0.0255\n",
      "Epoch 17/100\n",
      "50/50 [==============================] - 2475s 50s/step - loss: 0.0258 - val_loss: 0.0256\n",
      "Epoch 18/100\n",
      "50/50 [==============================] - 2529s 51s/step - loss: 0.0262 - val_loss: 0.0269\n",
      "Epoch 19/100\n",
      "50/50 [==============================] - 2492s 50s/step - loss: 0.0256 - val_loss: 0.0250\n",
      "Epoch 20/100\n",
      "50/50 [==============================] - 2479s 50s/step - loss: 0.0260 - val_loss: 0.0261\n",
      "Epoch 21/100\n",
      "50/50 [==============================] - 2479s 50s/step - loss: 0.0250 - val_loss: 0.0254\n",
      "Epoch 22/100\n",
      "50/50 [==============================] - 2492s 50s/step - loss: 0.0257 - val_loss: 0.0248\n",
      "Epoch 23/100\n",
      "50/50 [==============================] - 2491s 50s/step - loss: 0.0250 - val_loss: 0.0240\n",
      "Epoch 24/100\n",
      "50/50 [==============================] - 2474s 49s/step - loss: 0.0259 - val_loss: 0.0258\n",
      "Epoch 25/100\n",
      "50/50 [==============================] - 2505s 50s/step - loss: 0.0259 - val_loss: 0.0249\n",
      "Epoch 26/100\n",
      "50/50 [==============================] - 2524s 50s/step - loss: 0.0249 - val_loss: 0.0258\n",
      "Epoch 27/100\n",
      "50/50 [==============================] - 2473s 49s/step - loss: 0.0256 - val_loss: 0.0243\n",
      "Epoch 28/100\n",
      "50/50 [==============================] - 2480s 50s/step - loss: 0.0259 - val_loss: 0.0246\n",
      "Epoch 29/100\n",
      "50/50 [==============================] - 2498s 50s/step - loss: 0.0249 - val_loss: 0.0248\n",
      "Epoch 30/100\n",
      "50/50 [==============================] - 2574s 51s/step - loss: 0.0258 - val_loss: 0.0254\n",
      "Epoch 31/100\n",
      "50/50 [==============================] - 2474s 49s/step - loss: 0.0249 - val_loss: 0.0251\n",
      "Epoch 32/100\n",
      "50/50 [==============================] - 2518s 50s/step - loss: 0.0259 - val_loss: 0.0264\n",
      "Epoch 33/100\n",
      "50/50 [==============================] - 2535s 51s/step - loss: 0.0254 - val_loss: 0.0256\n",
      "Epoch 34/100\n",
      "50/50 [==============================] - 2474s 49s/step - loss: 0.0250 - val_loss: 0.0236\n",
      "Epoch 35/100\n",
      "50/50 [==============================] - 2480s 50s/step - loss: 0.0255 - val_loss: 0.0265\n",
      "Epoch 36/100\n",
      "50/50 [==============================] - 2524s 50s/step - loss: 0.0263 - val_loss: 0.0272\n",
      "Epoch 37/100\n",
      "50/50 [==============================] - 2559s 51s/step - loss: 0.0268 - val_loss: 0.0293\n",
      "Epoch 38/100\n",
      "50/50 [==============================] - 2545s 51s/step - loss: 0.0258 - val_loss: 0.0246\n",
      "Epoch 39/100\n",
      "50/50 [==============================] - 2509s 50s/step - loss: 0.0248 - val_loss: 0.0254\n",
      "Epoch 40/100\n",
      "50/50 [==============================] - 2537s 51s/step - loss: 0.0270 - val_loss: 0.0263\n",
      "Epoch 41/100\n",
      "50/50 [==============================] - 2527s 51s/step - loss: 0.0253 - val_loss: 0.0265\n",
      "Epoch 42/100\n",
      "50/50 [==============================] - 2524s 50s/step - loss: 0.0255 - val_loss: 0.0252\n",
      "Epoch 43/100\n",
      "50/50 [==============================] - 2477s 50s/step - loss: 0.0250 - val_loss: 0.0249\n",
      "Epoch 44/100\n",
      "50/50 [==============================] - 2482s 50s/step - loss: 0.0253 - val_loss: 0.0257\n",
      "Epoch 45/100\n",
      "50/50 [==============================] - 2488s 50s/step - loss: 0.0265 - val_loss: 0.0248\n",
      "Epoch 46/100\n",
      "50/50 [==============================] - 2541s 51s/step - loss: 0.0256 - val_loss: 0.0244\n",
      "Epoch 47/100\n",
      "50/50 [==============================] - 2493s 50s/step - loss: 0.0260 - val_loss: 0.0260\n",
      "Epoch 48/100\n",
      "50/50 [==============================] - 2498s 50s/step - loss: 0.0250 - val_loss: 0.0246\n",
      "Epoch 49/100\n",
      "50/50 [==============================] - 2548s 51s/step - loss: 0.0243 - val_loss: 0.0255\n",
      "Epoch 50/100\n",
      "50/50 [==============================] - 2478s 50s/step - loss: 0.0249 - val_loss: 0.0243\n",
      "Epoch 51/100\n",
      "50/50 [==============================] - 2501s 50s/step - loss: 0.0257 - val_loss: 0.0245\n",
      "Epoch 52/100\n",
      "50/50 [==============================] - 2496s 50s/step - loss: 0.0258 - val_loss: 0.0249\n",
      "Epoch 53/100\n",
      "50/50 [==============================] - 2476s 50s/step - loss: 0.0257 - val_loss: 0.0266\n",
      "Epoch 54/100\n",
      "50/50 [==============================] - 2492s 50s/step - loss: 0.0248 - val_loss: 0.0253\n",
      "Epoch 55/100\n",
      "50/50 [==============================] - 2496s 50s/step - loss: 0.0250 - val_loss: 0.0266\n",
      "Epoch 56/100\n",
      "50/50 [==============================] - 2482s 50s/step - loss: 0.0247 - val_loss: 0.0253\n",
      "Epoch 57/100\n",
      "50/50 [==============================] - 2523s 50s/step - loss: 0.0243 - val_loss: 0.0250\n",
      "Epoch 58/100\n",
      "50/50 [==============================] - 2523s 50s/step - loss: 0.0259 - val_loss: 0.0254\n",
      "Epoch 59/100\n",
      "50/50 [==============================] - 2481s 50s/step - loss: 0.0259 - val_loss: 0.0261\n",
      "Epoch 60/100\n",
      "50/50 [==============================] - 2533s 51s/step - loss: 0.0254 - val_loss: 0.0246\n",
      "Epoch 61/100\n",
      "50/50 [==============================] - 2511s 50s/step - loss: 0.0247 - val_loss: 0.0256\n",
      "Epoch 62/100\n",
      "50/50 [==============================] - 2490s 50s/step - loss: 0.0254 - val_loss: 0.0253\n",
      "Epoch 63/100\n",
      "49/50 [============================>.] - ETA: 25s - loss: 0.0265"
     ]
    },
    {
     "ename": "KeyboardInterrupt",
     "evalue": "",
     "output_type": "error",
     "traceback": [
      "\u001b[0;31m---------------------------------------------------------------------------\u001b[0m",
      "\u001b[0;31mKeyboardInterrupt\u001b[0m                         Traceback (most recent call last)",
      "\u001b[0;32m<ipython-input-30-d61944309d7d>\u001b[0m in \u001b[0;36m<module>\u001b[0;34m\u001b[0m\n\u001b[1;32m      7\u001b[0m     callbacks=[\n\u001b[1;32m      8\u001b[0m \u001b[0;31m#         earlystopping,\u001b[0m\u001b[0;34m\u001b[0m\u001b[0;34m\u001b[0m\u001b[0m\n\u001b[0;32m----> 9\u001b[0;31m         \u001b[0mcsv_logger\u001b[0m\u001b[0;34m,\u001b[0m\u001b[0;34m\u001b[0m\u001b[0m\n\u001b[0m\u001b[1;32m     10\u001b[0m     ],\n\u001b[1;32m     11\u001b[0m )  \n",
      "\u001b[0;32m~/anaconda3/envs/tf/lib/python3.6/site-packages/keras/legacy/interfaces.py\u001b[0m in \u001b[0;36mwrapper\u001b[0;34m(*args, **kwargs)\u001b[0m\n\u001b[1;32m     89\u001b[0m                 warnings.warn('Update your `' + object_name + '` call to the ' +\n\u001b[1;32m     90\u001b[0m                               'Keras 2 API: ' + signature, stacklevel=2)\n\u001b[0;32m---> 91\u001b[0;31m             \u001b[0;32mreturn\u001b[0m \u001b[0mfunc\u001b[0m\u001b[0;34m(\u001b[0m\u001b[0;34m*\u001b[0m\u001b[0margs\u001b[0m\u001b[0;34m,\u001b[0m \u001b[0;34m**\u001b[0m\u001b[0mkwargs\u001b[0m\u001b[0;34m)\u001b[0m\u001b[0;34m\u001b[0m\u001b[0m\n\u001b[0m\u001b[1;32m     92\u001b[0m         \u001b[0mwrapper\u001b[0m\u001b[0;34m.\u001b[0m\u001b[0m_original_function\u001b[0m \u001b[0;34m=\u001b[0m \u001b[0mfunc\u001b[0m\u001b[0;34m\u001b[0m\u001b[0m\n\u001b[1;32m     93\u001b[0m         \u001b[0;32mreturn\u001b[0m \u001b[0mwrapper\u001b[0m\u001b[0;34m\u001b[0m\u001b[0m\n",
      "\u001b[0;32m~/anaconda3/envs/tf/lib/python3.6/site-packages/keras/engine/training.py\u001b[0m in \u001b[0;36mfit_generator\u001b[0;34m(self, generator, steps_per_epoch, epochs, verbose, callbacks, validation_data, validation_steps, class_weight, max_queue_size, workers, use_multiprocessing, shuffle, initial_epoch)\u001b[0m\n\u001b[1;32m   1416\u001b[0m             \u001b[0muse_multiprocessing\u001b[0m\u001b[0;34m=\u001b[0m\u001b[0muse_multiprocessing\u001b[0m\u001b[0;34m,\u001b[0m\u001b[0;34m\u001b[0m\u001b[0m\n\u001b[1;32m   1417\u001b[0m             \u001b[0mshuffle\u001b[0m\u001b[0;34m=\u001b[0m\u001b[0mshuffle\u001b[0m\u001b[0;34m,\u001b[0m\u001b[0;34m\u001b[0m\u001b[0m\n\u001b[0;32m-> 1418\u001b[0;31m             initial_epoch=initial_epoch)\n\u001b[0m\u001b[1;32m   1419\u001b[0m \u001b[0;34m\u001b[0m\u001b[0m\n\u001b[1;32m   1420\u001b[0m     \u001b[0;34m@\u001b[0m\u001b[0minterfaces\u001b[0m\u001b[0;34m.\u001b[0m\u001b[0mlegacy_generator_methods_support\u001b[0m\u001b[0;34m\u001b[0m\u001b[0m\n",
      "\u001b[0;32m~/anaconda3/envs/tf/lib/python3.6/site-packages/keras/engine/training_generator.py\u001b[0m in \u001b[0;36mfit_generator\u001b[0;34m(model, generator, steps_per_epoch, epochs, verbose, callbacks, validation_data, validation_steps, class_weight, max_queue_size, workers, use_multiprocessing, shuffle, initial_epoch)\u001b[0m\n\u001b[1;32m    232\u001b[0m                             \u001b[0mval_enqueuer_gen\u001b[0m\u001b[0;34m,\u001b[0m\u001b[0;34m\u001b[0m\u001b[0m\n\u001b[1;32m    233\u001b[0m                             \u001b[0mvalidation_steps\u001b[0m\u001b[0;34m,\u001b[0m\u001b[0;34m\u001b[0m\u001b[0m\n\u001b[0;32m--> 234\u001b[0;31m                             workers=0)\n\u001b[0m\u001b[1;32m    235\u001b[0m                     \u001b[0;32melse\u001b[0m\u001b[0;34m:\u001b[0m\u001b[0;34m\u001b[0m\u001b[0m\n\u001b[1;32m    236\u001b[0m                         \u001b[0;31m# No need for try/except because\u001b[0m\u001b[0;34m\u001b[0m\u001b[0;34m\u001b[0m\u001b[0m\n",
      "\u001b[0;32m~/anaconda3/envs/tf/lib/python3.6/site-packages/keras/legacy/interfaces.py\u001b[0m in \u001b[0;36mwrapper\u001b[0;34m(*args, **kwargs)\u001b[0m\n\u001b[1;32m     89\u001b[0m                 warnings.warn('Update your `' + object_name + '` call to the ' +\n\u001b[1;32m     90\u001b[0m                               'Keras 2 API: ' + signature, stacklevel=2)\n\u001b[0;32m---> 91\u001b[0;31m             \u001b[0;32mreturn\u001b[0m \u001b[0mfunc\u001b[0m\u001b[0;34m(\u001b[0m\u001b[0;34m*\u001b[0m\u001b[0margs\u001b[0m\u001b[0;34m,\u001b[0m \u001b[0;34m**\u001b[0m\u001b[0mkwargs\u001b[0m\u001b[0;34m)\u001b[0m\u001b[0;34m\u001b[0m\u001b[0m\n\u001b[0m\u001b[1;32m     92\u001b[0m         \u001b[0mwrapper\u001b[0m\u001b[0;34m.\u001b[0m\u001b[0m_original_function\u001b[0m \u001b[0;34m=\u001b[0m \u001b[0mfunc\u001b[0m\u001b[0;34m\u001b[0m\u001b[0m\n\u001b[1;32m     93\u001b[0m         \u001b[0;32mreturn\u001b[0m \u001b[0mwrapper\u001b[0m\u001b[0;34m\u001b[0m\u001b[0m\n",
      "\u001b[0;32m~/anaconda3/envs/tf/lib/python3.6/site-packages/keras/engine/training.py\u001b[0m in \u001b[0;36mevaluate_generator\u001b[0;34m(self, generator, steps, max_queue_size, workers, use_multiprocessing, verbose)\u001b[0m\n\u001b[1;32m   1470\u001b[0m             \u001b[0mworkers\u001b[0m\u001b[0;34m=\u001b[0m\u001b[0mworkers\u001b[0m\u001b[0;34m,\u001b[0m\u001b[0;34m\u001b[0m\u001b[0m\n\u001b[1;32m   1471\u001b[0m             \u001b[0muse_multiprocessing\u001b[0m\u001b[0;34m=\u001b[0m\u001b[0muse_multiprocessing\u001b[0m\u001b[0;34m,\u001b[0m\u001b[0;34m\u001b[0m\u001b[0m\n\u001b[0;32m-> 1472\u001b[0;31m             verbose=verbose)\n\u001b[0m\u001b[1;32m   1473\u001b[0m \u001b[0;34m\u001b[0m\u001b[0m\n\u001b[1;32m   1474\u001b[0m     \u001b[0;34m@\u001b[0m\u001b[0minterfaces\u001b[0m\u001b[0;34m.\u001b[0m\u001b[0mlegacy_generator_methods_support\u001b[0m\u001b[0;34m\u001b[0m\u001b[0m\n",
      "\u001b[0;32m~/anaconda3/envs/tf/lib/python3.6/site-packages/keras/engine/training_generator.py\u001b[0m in \u001b[0;36mevaluate_generator\u001b[0;34m(model, generator, steps, max_queue_size, workers, use_multiprocessing, verbose)\u001b[0m\n\u001b[1;32m    344\u001b[0m                                  \u001b[0;34m'or (x, y). Found: '\u001b[0m \u001b[0;34m+\u001b[0m\u001b[0;34m\u001b[0m\u001b[0m\n\u001b[1;32m    345\u001b[0m                                  str(generator_output))\n\u001b[0;32m--> 346\u001b[0;31m             \u001b[0mouts\u001b[0m \u001b[0;34m=\u001b[0m \u001b[0mmodel\u001b[0m\u001b[0;34m.\u001b[0m\u001b[0mtest_on_batch\u001b[0m\u001b[0;34m(\u001b[0m\u001b[0mx\u001b[0m\u001b[0;34m,\u001b[0m \u001b[0my\u001b[0m\u001b[0;34m,\u001b[0m \u001b[0msample_weight\u001b[0m\u001b[0;34m=\u001b[0m\u001b[0msample_weight\u001b[0m\u001b[0;34m)\u001b[0m\u001b[0;34m\u001b[0m\u001b[0m\n\u001b[0m\u001b[1;32m    347\u001b[0m             \u001b[0mouts\u001b[0m \u001b[0;34m=\u001b[0m \u001b[0mto_list\u001b[0m\u001b[0;34m(\u001b[0m\u001b[0mouts\u001b[0m\u001b[0;34m)\u001b[0m\u001b[0;34m\u001b[0m\u001b[0m\n\u001b[1;32m    348\u001b[0m             \u001b[0mouts_per_batch\u001b[0m\u001b[0;34m.\u001b[0m\u001b[0mappend\u001b[0m\u001b[0;34m(\u001b[0m\u001b[0mouts\u001b[0m\u001b[0;34m)\u001b[0m\u001b[0;34m\u001b[0m\u001b[0m\n",
      "\u001b[0;32m~/anaconda3/envs/tf/lib/python3.6/site-packages/keras/engine/training.py\u001b[0m in \u001b[0;36mtest_on_batch\u001b[0;34m(self, x, y, sample_weight)\u001b[0m\n\u001b[1;32m   1254\u001b[0m             \u001b[0mins\u001b[0m \u001b[0;34m=\u001b[0m \u001b[0mx\u001b[0m \u001b[0;34m+\u001b[0m \u001b[0my\u001b[0m \u001b[0;34m+\u001b[0m \u001b[0msample_weights\u001b[0m\u001b[0;34m\u001b[0m\u001b[0m\n\u001b[1;32m   1255\u001b[0m         \u001b[0mself\u001b[0m\u001b[0;34m.\u001b[0m\u001b[0m_make_test_function\u001b[0m\u001b[0;34m(\u001b[0m\u001b[0;34m)\u001b[0m\u001b[0;34m\u001b[0m\u001b[0m\n\u001b[0;32m-> 1256\u001b[0;31m         \u001b[0moutputs\u001b[0m \u001b[0;34m=\u001b[0m \u001b[0mself\u001b[0m\u001b[0;34m.\u001b[0m\u001b[0mtest_function\u001b[0m\u001b[0;34m(\u001b[0m\u001b[0mins\u001b[0m\u001b[0;34m)\u001b[0m\u001b[0;34m\u001b[0m\u001b[0m\n\u001b[0m\u001b[1;32m   1257\u001b[0m         \u001b[0;32mreturn\u001b[0m \u001b[0munpack_singleton\u001b[0m\u001b[0;34m(\u001b[0m\u001b[0moutputs\u001b[0m\u001b[0;34m)\u001b[0m\u001b[0;34m\u001b[0m\u001b[0m\n\u001b[1;32m   1258\u001b[0m \u001b[0;34m\u001b[0m\u001b[0m\n",
      "\u001b[0;32m~/anaconda3/envs/tf/lib/python3.6/site-packages/keras/backend/tensorflow_backend.py\u001b[0m in \u001b[0;36m__call__\u001b[0;34m(self, inputs)\u001b[0m\n\u001b[1;32m   2713\u001b[0m                 \u001b[0;32mreturn\u001b[0m \u001b[0mself\u001b[0m\u001b[0;34m.\u001b[0m\u001b[0m_legacy_call\u001b[0m\u001b[0;34m(\u001b[0m\u001b[0minputs\u001b[0m\u001b[0;34m)\u001b[0m\u001b[0;34m\u001b[0m\u001b[0m\n\u001b[1;32m   2714\u001b[0m \u001b[0;34m\u001b[0m\u001b[0m\n\u001b[0;32m-> 2715\u001b[0;31m             \u001b[0;32mreturn\u001b[0m \u001b[0mself\u001b[0m\u001b[0;34m.\u001b[0m\u001b[0m_call\u001b[0m\u001b[0;34m(\u001b[0m\u001b[0minputs\u001b[0m\u001b[0;34m)\u001b[0m\u001b[0;34m\u001b[0m\u001b[0m\n\u001b[0m\u001b[1;32m   2716\u001b[0m         \u001b[0;32melse\u001b[0m\u001b[0;34m:\u001b[0m\u001b[0;34m\u001b[0m\u001b[0m\n\u001b[1;32m   2717\u001b[0m             \u001b[0;32mif\u001b[0m \u001b[0mpy_any\u001b[0m\u001b[0;34m(\u001b[0m\u001b[0mis_tensor\u001b[0m\u001b[0;34m(\u001b[0m\u001b[0mx\u001b[0m\u001b[0;34m)\u001b[0m \u001b[0;32mfor\u001b[0m \u001b[0mx\u001b[0m \u001b[0;32min\u001b[0m \u001b[0minputs\u001b[0m\u001b[0;34m)\u001b[0m\u001b[0;34m:\u001b[0m\u001b[0;34m\u001b[0m\u001b[0m\n",
      "\u001b[0;32m~/anaconda3/envs/tf/lib/python3.6/site-packages/keras/backend/tensorflow_backend.py\u001b[0m in \u001b[0;36m_call\u001b[0;34m(self, inputs)\u001b[0m\n\u001b[1;32m   2673\u001b[0m             \u001b[0mfetched\u001b[0m \u001b[0;34m=\u001b[0m \u001b[0mself\u001b[0m\u001b[0;34m.\u001b[0m\u001b[0m_callable_fn\u001b[0m\u001b[0;34m(\u001b[0m\u001b[0;34m*\u001b[0m\u001b[0marray_vals\u001b[0m\u001b[0;34m,\u001b[0m \u001b[0mrun_metadata\u001b[0m\u001b[0;34m=\u001b[0m\u001b[0mself\u001b[0m\u001b[0;34m.\u001b[0m\u001b[0mrun_metadata\u001b[0m\u001b[0;34m)\u001b[0m\u001b[0;34m\u001b[0m\u001b[0m\n\u001b[1;32m   2674\u001b[0m         \u001b[0;32melse\u001b[0m\u001b[0;34m:\u001b[0m\u001b[0;34m\u001b[0m\u001b[0m\n\u001b[0;32m-> 2675\u001b[0;31m             \u001b[0mfetched\u001b[0m \u001b[0;34m=\u001b[0m \u001b[0mself\u001b[0m\u001b[0;34m.\u001b[0m\u001b[0m_callable_fn\u001b[0m\u001b[0;34m(\u001b[0m\u001b[0;34m*\u001b[0m\u001b[0marray_vals\u001b[0m\u001b[0;34m)\u001b[0m\u001b[0;34m\u001b[0m\u001b[0m\n\u001b[0m\u001b[1;32m   2676\u001b[0m         \u001b[0;32mreturn\u001b[0m \u001b[0mfetched\u001b[0m\u001b[0;34m[\u001b[0m\u001b[0;34m:\u001b[0m\u001b[0mlen\u001b[0m\u001b[0;34m(\u001b[0m\u001b[0mself\u001b[0m\u001b[0;34m.\u001b[0m\u001b[0moutputs\u001b[0m\u001b[0;34m)\u001b[0m\u001b[0;34m]\u001b[0m\u001b[0;34m\u001b[0m\u001b[0m\n\u001b[1;32m   2677\u001b[0m \u001b[0;34m\u001b[0m\u001b[0m\n",
      "\u001b[0;32m~/anaconda3/envs/tf/lib/python3.6/site-packages/tensorflow/python/client/session.py\u001b[0m in \u001b[0;36m__call__\u001b[0;34m(self, *args, **kwargs)\u001b[0m\n\u001b[1;32m   1380\u001b[0m           ret = tf_session.TF_SessionRunCallable(\n\u001b[1;32m   1381\u001b[0m               \u001b[0mself\u001b[0m\u001b[0;34m.\u001b[0m\u001b[0m_session\u001b[0m\u001b[0;34m.\u001b[0m\u001b[0m_session\u001b[0m\u001b[0;34m,\u001b[0m \u001b[0mself\u001b[0m\u001b[0;34m.\u001b[0m\u001b[0m_handle\u001b[0m\u001b[0;34m,\u001b[0m \u001b[0margs\u001b[0m\u001b[0;34m,\u001b[0m \u001b[0mstatus\u001b[0m\u001b[0;34m,\u001b[0m\u001b[0;34m\u001b[0m\u001b[0m\n\u001b[0;32m-> 1382\u001b[0;31m               run_metadata_ptr)\n\u001b[0m\u001b[1;32m   1383\u001b[0m         \u001b[0;32mif\u001b[0m \u001b[0mrun_metadata\u001b[0m\u001b[0;34m:\u001b[0m\u001b[0;34m\u001b[0m\u001b[0m\n\u001b[1;32m   1384\u001b[0m           \u001b[0mproto_data\u001b[0m \u001b[0;34m=\u001b[0m \u001b[0mtf_session\u001b[0m\u001b[0;34m.\u001b[0m\u001b[0mTF_GetBuffer\u001b[0m\u001b[0;34m(\u001b[0m\u001b[0mrun_metadata_ptr\u001b[0m\u001b[0;34m)\u001b[0m\u001b[0;34m\u001b[0m\u001b[0m\n",
      "\u001b[0;31mKeyboardInterrupt\u001b[0m: "
     ]
    }
   ],
   "source": [
    "history = model.fit_generator(\n",
    "    data_generator_training,\n",
    "    steps_per_epoch=steps_per_epoch,\n",
    "    epochs=epochs,\n",
    "    validation_data=data_generator_validation,\n",
    "    verbose=verbose,\n",
    "    callbacks=[\n",
    "#         earlystopping,\n",
    "        csv_logger,\n",
    "    ],\n",
    ")  "
   ]
  },
  {
   "cell_type": "code",
   "execution_count": 31,
   "metadata": {},
   "outputs": [],
   "source": [
    "df = pd.read_csv(logger_filename)\n",
    "# df = pd.read_csv(\"test.log\")\n",
    "\n"
   ]
  },
  {
   "cell_type": "code",
   "execution_count": 32,
   "metadata": {},
   "outputs": [
    {
     "data": {
      "text/plain": [
       "<matplotlib.legend.Legend at 0xb369264a8>"
      ]
     },
     "execution_count": 32,
     "metadata": {},
     "output_type": "execute_result"
    },
    {
     "data": {
      "image/png": "[encoded data removed]",
      "text/plain": [
       "<Figure size 800x480 with 1 Axes>"
      ]
     },
     "metadata": {},
     "output_type": "display_data"
    }
   ],
   "source": [
    "plt.plot(df.loss**.5, label=\"training\")\n",
    "plt.plot(df.val_loss**.5, label=\"validation\")\n",
    "\n",
    "plt.axhline(df_Y.MEDIAN.std(), \n",
    "            linestyle=\"dashed\", color=\"black\",\n",
    "            label=\"std.dev.\",\n",
    "           )\n",
    "\n",
    "plt.xlabel(\"Epoch #\")\n",
    "plt.ylabel(\"RMS Error\")\n",
    "\n",
    "ylim = plt.ylim()\n",
    "\n",
    "plt.ylim(top=min(1, max(ylim)))\n",
    "plt.legend()\n"
   ]
  },
  {
   "cell_type": "code",
   "execution_count": 40,
   "metadata": {},
   "outputs": [
    {
     "data": {
      "text/plain": [
       "0.2589434254221604"
      ]
     },
     "execution_count": 40,
     "metadata": {},
     "output_type": "execute_result"
    }
   ],
   "source": [
    "(df.val_loss[:-10]**.5).mean()"
   ]
  },
  {
   "cell_type": "code",
   "execution_count": null,
   "metadata": {},
   "outputs": [],
   "source": [
    "## (np.partition(df.val_loss, 10)[:10]**.5).mean()"
   ]
  },
  {
   "cell_type": "code",
   "execution_count": null,
   "metadata": {},
   "outputs": [],
   "source": []
  }
 ],
 "metadata": {
  "kernelspec": {
   "display_name": "Python 3",
   "language": "python",
   "name": "python3"
  },
  "language_info": {
   "codemirror_mode": {
    "name": "ipython",
    "version": 3
   },
   "file_extension": ".py",
   "mimetype": "text/x-python",
   "name": "python",
   "nbconvert_exporter": "python",
   "pygments_lexer": "ipython3",
   "version": "3.6.6"
  }
 },
 "nbformat": 4,
 "nbformat_minor": 2
}
