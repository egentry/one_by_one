{
 "cells": [
  {
   "cell_type": "code",
   "execution_count": 1,
   "metadata": {},
   "outputs": [],
   "source": [
    "import pandas as pd\n",
    "import astropy\n",
    "from astropy.io import fits\n",
    "import astropy.table\n",
    "import seaborn as sns; sns.set()\n",
    "import numpy as np\n",
    "import os\n",
    "import urllib.request\n"
   ]
  },
  {
   "cell_type": "code",
   "execution_count": 2,
   "metadata": {},
   "outputs": [],
   "source": [
    "data_dir = \"data\""
   ]
  },
  {
   "cell_type": "markdown",
   "metadata": {},
   "source": [
    "# DR7 spectral\n",
    "Note: for future reference, we could have gotten these directly from the sdss table `galSpecExtra`"
   ]
  },
  {
   "cell_type": "code",
   "execution_count": 4,
   "metadata": {},
   "outputs": [
    {
     "name": "stdout",
     "output_type": "stream",
     "text": [
      "(927552, 8)\n"
     ]
    },
    {
     "data": {
      "text/html": [
       "<div>\n",
       "<style scoped>\n",
       "    .dataframe tbody tr th:only-of-type {\n",
       "        vertical-align: middle;\n",
       "    }\n",
       "\n",
       "    .dataframe tbody tr th {\n",
       "        vertical-align: top;\n",
       "    }\n",
       "\n",
       "    .dataframe thead th {\n",
       "        text-align: right;\n",
       "    }\n",
       "</style>\n",
       "<table border=\"1\" class=\"dataframe\">\n",
       "  <thead>\n",
       "    <tr style=\"text-align: right;\">\n",
       "      <th></th>\n",
       "      <th>MEDIAN</th>\n",
       "      <th>P16</th>\n",
       "      <th>P84</th>\n",
       "      <th>P2P5</th>\n",
       "      <th>P97P5</th>\n",
       "      <th>MODE</th>\n",
       "      <th>AVG</th>\n",
       "      <th>ENTROPY</th>\n",
       "    </tr>\n",
       "  </thead>\n",
       "  <tbody>\n",
       "    <tr>\n",
       "      <th>0</th>\n",
       "      <td>-99.900002</td>\n",
       "      <td>-99.900002</td>\n",
       "      <td>-99.900002</td>\n",
       "      <td>-99.900002</td>\n",
       "      <td>-99.900002</td>\n",
       "      <td>-99.900002</td>\n",
       "      <td>-99.900002</td>\n",
       "      <td>-99.900002</td>\n",
       "    </tr>\n",
       "    <tr>\n",
       "      <th>1</th>\n",
       "      <td>-99.900002</td>\n",
       "      <td>-99.900002</td>\n",
       "      <td>-99.900002</td>\n",
       "      <td>-99.900002</td>\n",
       "      <td>-99.900002</td>\n",
       "      <td>-99.900002</td>\n",
       "      <td>-99.900002</td>\n",
       "      <td>-99.900002</td>\n",
       "    </tr>\n",
       "    <tr>\n",
       "      <th>2</th>\n",
       "      <td>-99.900002</td>\n",
       "      <td>-99.900002</td>\n",
       "      <td>-99.900002</td>\n",
       "      <td>-99.900002</td>\n",
       "      <td>-99.900002</td>\n",
       "      <td>-99.900002</td>\n",
       "      <td>-99.900002</td>\n",
       "      <td>-99.900002</td>\n",
       "    </tr>\n",
       "    <tr>\n",
       "      <th>3</th>\n",
       "      <td>-99.900002</td>\n",
       "      <td>-99.900002</td>\n",
       "      <td>-99.900002</td>\n",
       "      <td>-99.900002</td>\n",
       "      <td>-99.900002</td>\n",
       "      <td>-99.900002</td>\n",
       "      <td>-99.900002</td>\n",
       "      <td>-99.900002</td>\n",
       "    </tr>\n",
       "    <tr>\n",
       "      <th>4</th>\n",
       "      <td>-99.900002</td>\n",
       "      <td>-99.900002</td>\n",
       "      <td>-99.900002</td>\n",
       "      <td>-99.900002</td>\n",
       "      <td>-99.900002</td>\n",
       "      <td>-99.900002</td>\n",
       "      <td>-99.900002</td>\n",
       "      <td>-99.900002</td>\n",
       "    </tr>\n",
       "  </tbody>\n",
       "</table>\n",
       "</div>"
      ],
      "text/plain": [
       "      MEDIAN        P16        P84       P2P5      P97P5       MODE  \\\n",
       "0 -99.900002 -99.900002 -99.900002 -99.900002 -99.900002 -99.900002   \n",
       "1 -99.900002 -99.900002 -99.900002 -99.900002 -99.900002 -99.900002   \n",
       "2 -99.900002 -99.900002 -99.900002 -99.900002 -99.900002 -99.900002   \n",
       "3 -99.900002 -99.900002 -99.900002 -99.900002 -99.900002 -99.900002   \n",
       "4 -99.900002 -99.900002 -99.900002 -99.900002 -99.900002 -99.900002   \n",
       "\n",
       "         AVG    ENTROPY  \n",
       "0 -99.900002 -99.900002  \n",
       "1 -99.900002 -99.900002  \n",
       "2 -99.900002 -99.900002  \n",
       "3 -99.900002 -99.900002  \n",
       "4 -99.900002 -99.900002  "
      ]
     },
     "execution_count": 4,
     "metadata": {},
     "output_type": "execute_result"
    }
   ],
   "source": [
    "metallicity_filename = os.path.join(data_dir, \"gal_fiboh_dr7_v5_2.tmp.fits.gz\")\n",
    "\n",
    "if not os.path.exists(metallicity_filename):\n",
    "    url = \"https://wwwmpa.mpa-garching.mpg.de/SDSS/DR7/Data/gal_fiboh_dr7_v5_2.fits.gz\"\n",
    "    data = urllib.request.urlopen(url).read()\n",
    "    with open(metallicity_filename, mode=\"wb\") as f:\n",
    "        f.write(data)\n",
    "    \n",
    "df_metallicity = astropy.table.Table.read(metallicity_filename).to_pandas()\n",
    "print(df_metallicity.shape)\n",
    "df_metallicity.head()"
   ]
  },
  {
   "cell_type": "markdown",
   "metadata": {},
   "source": [
    "## Now add spec id's to the metallicities"
   ]
  },
  {
   "cell_type": "code",
   "execution_count": 5,
   "metadata": {},
   "outputs": [
    {
     "name": "stdout",
     "output_type": "stream",
     "text": [
      "(927552, 13)\n"
     ]
    },
    {
     "data": {
      "text/html": [
       "<div>\n",
       "<style scoped>\n",
       "    .dataframe tbody tr th:only-of-type {\n",
       "        vertical-align: middle;\n",
       "    }\n",
       "\n",
       "    .dataframe tbody tr th {\n",
       "        vertical-align: top;\n",
       "    }\n",
       "\n",
       "    .dataframe thead th {\n",
       "        text-align: right;\n",
       "    }\n",
       "</style>\n",
       "<table border=\"1\" class=\"dataframe\">\n",
       "  <thead>\n",
       "    <tr style=\"text-align: right;\">\n",
       "      <th></th>\n",
       "      <th>BESTOBJID</th>\n",
       "      <th>FIBERID</th>\n",
       "      <th>HTMID</th>\n",
       "      <th>PLATEID</th>\n",
       "      <th>SPECOBJID</th>\n",
       "      <th>SPECTROGRAPHID</th>\n",
       "      <th>TARGETID</th>\n",
       "      <th>TARGETOBJID</th>\n",
       "      <th>OBJTYPENAME</th>\n",
       "      <th>SCIENCEPRIMARY</th>\n",
       "      <th>Z</th>\n",
       "      <th>ZERR</th>\n",
       "      <th>ZWARNING</th>\n",
       "    </tr>\n",
       "  </thead>\n",
       "  <tbody>\n",
       "    <tr>\n",
       "      <th>0</th>\n",
       "      <td>0</td>\n",
       "      <td>1</td>\n",
       "      <td>10570144490904</td>\n",
       "      <td>75093972707442688</td>\n",
       "      <td>75093972711636992</td>\n",
       "      <td>1</td>\n",
       "      <td>284722522357889</td>\n",
       "      <td>0</td>\n",
       "      <td>GALAXY</td>\n",
       "      <td>0</td>\n",
       "      <td>0.021314</td>\n",
       "      <td>0.000175</td>\n",
       "      <td>0</td>\n",
       "    </tr>\n",
       "    <tr>\n",
       "      <th>1</th>\n",
       "      <td>0</td>\n",
       "      <td>2</td>\n",
       "      <td>10570079934268</td>\n",
       "      <td>75093972707442688</td>\n",
       "      <td>75093972715831296</td>\n",
       "      <td>1</td>\n",
       "      <td>284722522489067</td>\n",
       "      <td>0</td>\n",
       "      <td>GALAXY</td>\n",
       "      <td>0</td>\n",
       "      <td>0.213991</td>\n",
       "      <td>0.000130</td>\n",
       "      <td>0</td>\n",
       "    </tr>\n",
       "    <tr>\n",
       "      <th>2</th>\n",
       "      <td>0</td>\n",
       "      <td>4</td>\n",
       "      <td>10570066101623</td>\n",
       "      <td>75093972707442688</td>\n",
       "      <td>75093972724219904</td>\n",
       "      <td>1</td>\n",
       "      <td>284705867301092</td>\n",
       "      <td>0</td>\n",
       "      <td>GALAXY</td>\n",
       "      <td>0</td>\n",
       "      <td>0.126660</td>\n",
       "      <td>0.000165</td>\n",
       "      <td>0</td>\n",
       "    </tr>\n",
       "    <tr>\n",
       "      <th>3</th>\n",
       "      <td>0</td>\n",
       "      <td>5</td>\n",
       "      <td>10570136564158</td>\n",
       "      <td>75093972707442688</td>\n",
       "      <td>75093972728414208</td>\n",
       "      <td>1</td>\n",
       "      <td>284705867235621</td>\n",
       "      <td>0</td>\n",
       "      <td>GALAXY</td>\n",
       "      <td>0</td>\n",
       "      <td>0.448533</td>\n",
       "      <td>0.000215</td>\n",
       "      <td>0</td>\n",
       "    </tr>\n",
       "    <tr>\n",
       "      <th>4</th>\n",
       "      <td>0</td>\n",
       "      <td>6</td>\n",
       "      <td>10552980740229</td>\n",
       "      <td>75093972707442688</td>\n",
       "      <td>75093972732608512</td>\n",
       "      <td>1</td>\n",
       "      <td>284723059360012</td>\n",
       "      <td>0</td>\n",
       "      <td>GALAXY</td>\n",
       "      <td>0</td>\n",
       "      <td>0.055957</td>\n",
       "      <td>0.000095</td>\n",
       "      <td>0</td>\n",
       "    </tr>\n",
       "  </tbody>\n",
       "</table>\n",
       "</div>"
      ],
      "text/plain": [
       "   BESTOBJID  FIBERID           HTMID            PLATEID          SPECOBJID  \\\n",
       "0          0        1  10570144490904  75093972707442688  75093972711636992   \n",
       "1          0        2  10570079934268  75093972707442688  75093972715831296   \n",
       "2          0        4  10570066101623  75093972707442688  75093972724219904   \n",
       "3          0        5  10570136564158  75093972707442688  75093972728414208   \n",
       "4          0        6  10552980740229  75093972707442688  75093972732608512   \n",
       "\n",
       "   SPECTROGRAPHID         TARGETID  TARGETOBJID OBJTYPENAME  SCIENCEPRIMARY  \\\n",
       "0               1  284722522357889            0      GALAXY               0   \n",
       "1               1  284722522489067            0      GALAXY               0   \n",
       "2               1  284705867301092            0      GALAXY               0   \n",
       "3               1  284705867235621            0      GALAXY               0   \n",
       "4               1  284723059360012            0      GALAXY               0   \n",
       "\n",
       "          Z      ZERR  ZWARNING  \n",
       "0  0.021314  0.000175         0  \n",
       "1  0.213991  0.000130         0  \n",
       "2  0.126660  0.000165         0  \n",
       "3  0.448533  0.000215         0  \n",
       "4  0.055957  0.000095         0  "
      ]
     },
     "execution_count": 5,
     "metadata": {},
     "output_type": "execute_result"
    }
   ],
   "source": [
    "spec_filename = os.path.join(data_dir, \"SpecObjAll.fits\")\n",
    "\n",
    "if not os.path.exists(spec_filename):\n",
    "    url = \"http://home.strw.leidenuniv.nl/~jarle/SDSS/DR7/SpecObjAll.fits\"\n",
    "    data = urllib.request.urlopen(url).read()\n",
    "    with open(spec_filename, mode=\"wb\") as f:\n",
    "        f.write(data)\n",
    "\n",
    "df_spec = astropy.table.Table.read(spec_filename).to_pandas()\n",
    "keys_to_keep = [key for key in df_spec.keys()\n",
    "               if \"ID\" in key]\n",
    "keys_to_keep.append(\"OBJTYPENAME\")\n",
    "keys_to_keep.append(\"SCIENCEPRIMARY\") # 1 means good, 0 means bad\n",
    "keys_to_keep.append(\"Z\")\n",
    "keys_to_keep.append(\"ZERR\")\n",
    "keys_to_keep.append(\"ZWARNING\")\n",
    "df_spec = df_spec[keys_to_keep]\n",
    "df_spec.OBJTYPENAME = df_spec.OBJTYPENAME.apply(lambda x: x.strip().decode())\n",
    "\n",
    "print(df_spec.shape)\n",
    "df_spec.head()"
   ]
  },
  {
   "cell_type": "code",
   "execution_count": 6,
   "metadata": {},
   "outputs": [
    {
     "data": {
      "text/plain": [
       "['BESTOBJID',\n",
       " 'FIBERID',\n",
       " 'HTMID',\n",
       " 'PLATEID',\n",
       " 'SPECOBJID',\n",
       " 'SPECTROGRAPHID',\n",
       " 'TARGETID',\n",
       " 'TARGETOBJID',\n",
       " 'OBJTYPENAME',\n",
       " 'SCIENCEPRIMARY',\n",
       " 'Z',\n",
       " 'ZERR',\n",
       " 'ZWARNING']"
      ]
     },
     "execution_count": 6,
     "metadata": {},
     "output_type": "execute_result"
    }
   ],
   "source": [
    "list(df_spec.keys())"
   ]
  },
  {
   "cell_type": "code",
   "execution_count": 7,
   "metadata": {},
   "outputs": [
    {
     "data": {
      "text/plain": [
       "SCIENCEPRIMARY\n",
       "0    123623\n",
       "1    803929\n",
       "dtype: int64"
      ]
     },
     "execution_count": 7,
     "metadata": {},
     "output_type": "execute_result"
    }
   ],
   "source": [
    "df_spec.groupby(\"SCIENCEPRIMARY\").size()"
   ]
  },
  {
   "cell_type": "code",
   "execution_count": 8,
   "metadata": {},
   "outputs": [
    {
     "name": "stdout",
     "output_type": "stream",
     "text": [
      "primary fraction:  0.8362790789040746\n",
      "(170289, 21)\n"
     ]
    },
    {
     "data": {
      "text/html": [
       "<div>\n",
       "<style scoped>\n",
       "    .dataframe tbody tr th:only-of-type {\n",
       "        vertical-align: middle;\n",
       "    }\n",
       "\n",
       "    .dataframe tbody tr th {\n",
       "        vertical-align: top;\n",
       "    }\n",
       "\n",
       "    .dataframe thead th {\n",
       "        text-align: right;\n",
       "    }\n",
       "</style>\n",
       "<table border=\"1\" class=\"dataframe\">\n",
       "  <thead>\n",
       "    <tr style=\"text-align: right;\">\n",
       "      <th></th>\n",
       "      <th>BESTOBJID</th>\n",
       "      <th>FIBERID</th>\n",
       "      <th>HTMID</th>\n",
       "      <th>PLATEID</th>\n",
       "      <th>SPECOBJID</th>\n",
       "      <th>SPECTROGRAPHID</th>\n",
       "      <th>TARGETID</th>\n",
       "      <th>TARGETOBJID</th>\n",
       "      <th>OBJTYPENAME</th>\n",
       "      <th>SCIENCEPRIMARY</th>\n",
       "      <th>...</th>\n",
       "      <th>ZERR</th>\n",
       "      <th>ZWARNING</th>\n",
       "      <th>MEDIAN</th>\n",
       "      <th>P16</th>\n",
       "      <th>P84</th>\n",
       "      <th>P2P5</th>\n",
       "      <th>P97P5</th>\n",
       "      <th>MODE</th>\n",
       "      <th>AVG</th>\n",
       "      <th>ENTROPY</th>\n",
       "    </tr>\n",
       "  </thead>\n",
       "  <tbody>\n",
       "    <tr>\n",
       "      <th>502</th>\n",
       "      <td>0</td>\n",
       "      <td>12</td>\n",
       "      <td>10552980740229</td>\n",
       "      <td>75094092966526976</td>\n",
       "      <td>75094093016858624</td>\n",
       "      <td>1</td>\n",
       "      <td>284723059360012</td>\n",
       "      <td>0</td>\n",
       "      <td>GALAXY</td>\n",
       "      <td>1</td>\n",
       "      <td>...</td>\n",
       "      <td>0.000095</td>\n",
       "      <td>0</td>\n",
       "      <td>9.011528</td>\n",
       "      <td>8.981688</td>\n",
       "      <td>9.038651</td>\n",
       "      <td>8.947308</td>\n",
       "      <td>9.080256</td>\n",
       "      <td>9.020000</td>\n",
       "      <td>9.022683</td>\n",
       "      <td>154.244042</td>\n",
       "    </tr>\n",
       "    <tr>\n",
       "      <th>504</th>\n",
       "      <td>0</td>\n",
       "      <td>14</td>\n",
       "      <td>10552986017956</td>\n",
       "      <td>75094092966526976</td>\n",
       "      <td>75094093025247232</td>\n",
       "      <td>1</td>\n",
       "      <td>284723059359915</td>\n",
       "      <td>0</td>\n",
       "      <td>GALAXY</td>\n",
       "      <td>1</td>\n",
       "      <td>...</td>\n",
       "      <td>0.000086</td>\n",
       "      <td>0</td>\n",
       "      <td>8.943193</td>\n",
       "      <td>8.923120</td>\n",
       "      <td>8.974710</td>\n",
       "      <td>8.865574</td>\n",
       "      <td>9.000556</td>\n",
       "      <td>8.960000</td>\n",
       "      <td>8.953361</td>\n",
       "      <td>164.798209</td>\n",
       "    </tr>\n",
       "    <tr>\n",
       "      <th>506</th>\n",
       "      <td>0</td>\n",
       "      <td>17</td>\n",
       "      <td>10570139305399</td>\n",
       "      <td>75094092966526976</td>\n",
       "      <td>75094093037830144</td>\n",
       "      <td>1</td>\n",
       "      <td>284705867169812</td>\n",
       "      <td>0</td>\n",
       "      <td>GALAXY</td>\n",
       "      <td>1</td>\n",
       "      <td>...</td>\n",
       "      <td>0.000183</td>\n",
       "      <td>0</td>\n",
       "      <td>9.052521</td>\n",
       "      <td>9.005045</td>\n",
       "      <td>9.075583</td>\n",
       "      <td>8.981743</td>\n",
       "      <td>9.114435</td>\n",
       "      <td>9.059999</td>\n",
       "      <td>9.056561</td>\n",
       "      <td>158.323309</td>\n",
       "    </tr>\n",
       "    <tr>\n",
       "      <th>514</th>\n",
       "      <td>0</td>\n",
       "      <td>27</td>\n",
       "      <td>10552961827699</td>\n",
       "      <td>75094092966526976</td>\n",
       "      <td>75094093079773184</td>\n",
       "      <td>1</td>\n",
       "      <td>284706404302990</td>\n",
       "      <td>0</td>\n",
       "      <td>GALAXY</td>\n",
       "      <td>1</td>\n",
       "      <td>...</td>\n",
       "      <td>0.000214</td>\n",
       "      <td>0</td>\n",
       "      <td>8.173073</td>\n",
       "      <td>8.039071</td>\n",
       "      <td>8.339158</td>\n",
       "      <td>7.947417</td>\n",
       "      <td>8.570580</td>\n",
       "      <td>8.160000</td>\n",
       "      <td>8.204945</td>\n",
       "      <td>43.245062</td>\n",
       "    </tr>\n",
       "    <tr>\n",
       "      <th>523</th>\n",
       "      <td>0</td>\n",
       "      <td>41</td>\n",
       "      <td>10570179932652</td>\n",
       "      <td>75094092966526976</td>\n",
       "      <td>75094093138493440</td>\n",
       "      <td>1</td>\n",
       "      <td>284722522292399</td>\n",
       "      <td>0</td>\n",
       "      <td>GALAXY</td>\n",
       "      <td>1</td>\n",
       "      <td>...</td>\n",
       "      <td>0.000103</td>\n",
       "      <td>0</td>\n",
       "      <td>9.136789</td>\n",
       "      <td>9.096197</td>\n",
       "      <td>9.154139</td>\n",
       "      <td>9.082401</td>\n",
       "      <td>9.159868</td>\n",
       "      <td>9.160000</td>\n",
       "      <td>9.137628</td>\n",
       "      <td>190.447896</td>\n",
       "    </tr>\n",
       "  </tbody>\n",
       "</table>\n",
       "<p>5 rows × 21 columns</p>\n",
       "</div>"
      ],
      "text/plain": [
       "     BESTOBJID  FIBERID           HTMID            PLATEID          SPECOBJID  \\\n",
       "502          0       12  10552980740229  75094092966526976  75094093016858624   \n",
       "504          0       14  10552986017956  75094092966526976  75094093025247232   \n",
       "506          0       17  10570139305399  75094092966526976  75094093037830144   \n",
       "514          0       27  10552961827699  75094092966526976  75094093079773184   \n",
       "523          0       41  10570179932652  75094092966526976  75094093138493440   \n",
       "\n",
       "     SPECTROGRAPHID         TARGETID  TARGETOBJID OBJTYPENAME  SCIENCEPRIMARY  \\\n",
       "502               1  284723059360012            0      GALAXY               1   \n",
       "504               1  284723059359915            0      GALAXY               1   \n",
       "506               1  284705867169812            0      GALAXY               1   \n",
       "514               1  284706404302990            0      GALAXY               1   \n",
       "523               1  284722522292399            0      GALAXY               1   \n",
       "\n",
       "        ...          ZERR  ZWARNING    MEDIAN       P16       P84      P2P5  \\\n",
       "502     ...      0.000095         0  9.011528  8.981688  9.038651  8.947308   \n",
       "504     ...      0.000086         0  8.943193  8.923120  8.974710  8.865574   \n",
       "506     ...      0.000183         0  9.052521  9.005045  9.075583  8.981743   \n",
       "514     ...      0.000214         0  8.173073  8.039071  8.339158  7.947417   \n",
       "523     ...      0.000103         0  9.136789  9.096197  9.154139  9.082401   \n",
       "\n",
       "        P97P5      MODE       AVG     ENTROPY  \n",
       "502  9.080256  9.020000  9.022683  154.244042  \n",
       "504  9.000556  8.960000  8.953361  164.798209  \n",
       "506  9.114435  9.059999  9.056561  158.323309  \n",
       "514  8.570580  8.160000  8.204945   43.245062  \n",
       "523  9.159868  9.160000  9.137628  190.447896  \n",
       "\n",
       "[5 rows x 21 columns]"
      ]
     },
     "execution_count": 8,
     "metadata": {},
     "output_type": "execute_result"
    }
   ],
   "source": [
    "df = df_spec.join(df_metallicity)\n",
    "\n",
    "df = df[df.MEDIAN > -20] # filter out bad fits\n",
    "print(\"primary fraction: \", (df[\"SCIENCEPRIMARY\"]==1).mean())\n",
    "df = df[df[\"SCIENCEPRIMARY\"] == 1]\n",
    "\n",
    "print(df.shape)\n",
    "df.head()"
   ]
  },
  {
   "cell_type": "code",
   "execution_count": 9,
   "metadata": {},
   "outputs": [],
   "source": [
    "# save the specobjid's so I can upload it to a sdss scratch tables\n",
    "\n",
    "df[[\"SPECOBJID\"]].drop_duplicates().to_csv(\"data/dr7_direct_specobjids.csv\", index=False)\n",
    "# even though I use `drop_duplicates`, it's actually unique already\n"
   ]
  },
  {
   "cell_type": "code",
   "execution_count": 10,
   "metadata": {},
   "outputs": [
    {
     "data": {
      "text/plain": [
       "(170289, 1)"
      ]
     },
     "execution_count": 10,
     "metadata": {},
     "output_type": "execute_result"
    }
   ],
   "source": [
    "df[[\"SPECOBJID\"]].drop_duplicates().shape"
   ]
  },
  {
   "cell_type": "markdown",
   "metadata": {},
   "source": [
    "## DR7 -> DR14 matches\n",
    "SQL: \n",
    "```\n",
    "SELECT \n",
    "  r.*,\n",
    "  l.SPECOBJID as dr7_specObjID\n",
    "FROM DR14.PhotoPrimaryDR7 as r\n",
    "  INNER JOIN MyDB.DirectIDs as l\n",
    "  ON r.SpecObjID = l.SPECOBJID\n",
    "  ;\n",
    "```\n",
    "\n",
    "which was run on http://skyserver.sdss.org/CasJobs/SubmitJob.aspx\n",
    "\n",
    "here `MyDB.DirectIDs` is just `df[[\"SPECOBJID\"]].to_csv(...)`. `SPECOBJID` are unique in `MyDB.DirectIDs` but not in `DR14.PhotoPrimaryDR7` (but there will only be ~700 overlaps).\n"
   ]
  },
  {
   "cell_type": "code",
   "execution_count": 11,
   "metadata": {},
   "outputs": [
    {
     "name": "stdout",
     "output_type": "stream",
     "text": [
      "(167988, 68)\n"
     ]
    },
    {
     "data": {
      "text/html": [
       "<div>\n",
       "<style scoped>\n",
       "    .dataframe tbody tr th:only-of-type {\n",
       "        vertical-align: middle;\n",
       "    }\n",
       "\n",
       "    .dataframe tbody tr th {\n",
       "        vertical-align: top;\n",
       "    }\n",
       "\n",
       "    .dataframe thead th {\n",
       "        text-align: right;\n",
       "    }\n",
       "</style>\n",
       "<table border=\"1\" class=\"dataframe\">\n",
       "  <thead>\n",
       "    <tr style=\"text-align: right;\">\n",
       "      <th></th>\n",
       "      <th>dr7objid</th>\n",
       "      <th>dr8objid</th>\n",
       "      <th>distance</th>\n",
       "      <th>skyVersion</th>\n",
       "      <th>run</th>\n",
       "      <th>rerun</th>\n",
       "      <th>camcol</th>\n",
       "      <th>field</th>\n",
       "      <th>obj</th>\n",
       "      <th>nChild</th>\n",
       "      <th>...</th>\n",
       "      <th>secTarget</th>\n",
       "      <th>extinction_u</th>\n",
       "      <th>extinction_g</th>\n",
       "      <th>extinction_r</th>\n",
       "      <th>extinction_i</th>\n",
       "      <th>extinction_z</th>\n",
       "      <th>htmID</th>\n",
       "      <th>fieldID</th>\n",
       "      <th>SpecObjID</th>\n",
       "      <th>size</th>\n",
       "    </tr>\n",
       "    <tr>\n",
       "      <th>dr7_specObjID</th>\n",
       "      <th></th>\n",
       "      <th></th>\n",
       "      <th></th>\n",
       "      <th></th>\n",
       "      <th></th>\n",
       "      <th></th>\n",
       "      <th></th>\n",
       "      <th></th>\n",
       "      <th></th>\n",
       "      <th></th>\n",
       "      <th></th>\n",
       "      <th></th>\n",
       "      <th></th>\n",
       "      <th></th>\n",
       "      <th></th>\n",
       "      <th></th>\n",
       "      <th></th>\n",
       "      <th></th>\n",
       "      <th></th>\n",
       "      <th></th>\n",
       "      <th></th>\n",
       "    </tr>\n",
       "  </thead>\n",
       "  <tbody>\n",
       "    <tr>\n",
       "      <th>349819130980859904</th>\n",
       "      <td>588015509294350376</td>\n",
       "      <td>1237645942905438473</td>\n",
       "      <td>0.000035</td>\n",
       "      <td>1</td>\n",
       "      <td>3325</td>\n",
       "      <td>41</td>\n",
       "      <td>4</td>\n",
       "      <td>489</td>\n",
       "      <td>40</td>\n",
       "      <td>0</td>\n",
       "      <td>...</td>\n",
       "      <td>0</td>\n",
       "      <td>1.050807</td>\n",
       "      <td>0.773173</td>\n",
       "      <td>0.560770</td>\n",
       "      <td>0.425215</td>\n",
       "      <td>0.301483</td>\n",
       "      <td>16656133296124</td>\n",
       "      <td>588015509294350336</td>\n",
       "      <td>349819130980859904</td>\n",
       "      <td>8.652516</td>\n",
       "    </tr>\n",
       "    <tr>\n",
       "      <th>116472201326100480</th>\n",
       "      <td>588015510365339781</td>\n",
       "      <td>1237645943976493208</td>\n",
       "      <td>0.000104</td>\n",
       "      <td>1</td>\n",
       "      <td>3325</td>\n",
       "      <td>41</td>\n",
       "      <td>6</td>\n",
       "      <td>447</td>\n",
       "      <td>133</td>\n",
       "      <td>0</td>\n",
       "      <td>...</td>\n",
       "      <td>0</td>\n",
       "      <td>0.601972</td>\n",
       "      <td>0.442925</td>\n",
       "      <td>0.321246</td>\n",
       "      <td>0.243591</td>\n",
       "      <td>0.172709</td>\n",
       "      <td>16645400403243</td>\n",
       "      <td>588015510365339648</td>\n",
       "      <td>116472201326100480</td>\n",
       "      <td>4.885514</td>\n",
       "    </tr>\n",
       "    <tr>\n",
       "      <th>116472201330294784</th>\n",
       "      <td>588015510365339757</td>\n",
       "      <td>1237645943976493287</td>\n",
       "      <td>0.000111</td>\n",
       "      <td>1</td>\n",
       "      <td>3325</td>\n",
       "      <td>41</td>\n",
       "      <td>6</td>\n",
       "      <td>447</td>\n",
       "      <td>109</td>\n",
       "      <td>0</td>\n",
       "      <td>...</td>\n",
       "      <td>0</td>\n",
       "      <td>0.624787</td>\n",
       "      <td>0.459712</td>\n",
       "      <td>0.333422</td>\n",
       "      <td>0.252824</td>\n",
       "      <td>0.179255</td>\n",
       "      <td>16645369720486</td>\n",
       "      <td>588015510365339648</td>\n",
       "      <td>116472201330294784</td>\n",
       "      <td>1.646459</td>\n",
       "    </tr>\n",
       "    <tr>\n",
       "      <th>116753554911264768</th>\n",
       "      <td>588015510365339765</td>\n",
       "      <td>1237645943976493290</td>\n",
       "      <td>0.000034</td>\n",
       "      <td>1</td>\n",
       "      <td>3325</td>\n",
       "      <td>41</td>\n",
       "      <td>6</td>\n",
       "      <td>447</td>\n",
       "      <td>117</td>\n",
       "      <td>0</td>\n",
       "      <td>...</td>\n",
       "      <td>0</td>\n",
       "      <td>0.609279</td>\n",
       "      <td>0.448302</td>\n",
       "      <td>0.325146</td>\n",
       "      <td>0.246548</td>\n",
       "      <td>0.174806</td>\n",
       "      <td>16645407457520</td>\n",
       "      <td>588015510365339648</td>\n",
       "      <td>116753554911264768</td>\n",
       "      <td>5.438163</td>\n",
       "    </tr>\n",
       "    <tr>\n",
       "      <th>117316118552510464</th>\n",
       "      <td>588015510367174876</td>\n",
       "      <td>1237645943978328289</td>\n",
       "      <td>0.000038</td>\n",
       "      <td>1</td>\n",
       "      <td>3325</td>\n",
       "      <td>41</td>\n",
       "      <td>6</td>\n",
       "      <td>475</td>\n",
       "      <td>220</td>\n",
       "      <td>0</td>\n",
       "      <td>...</td>\n",
       "      <td>0</td>\n",
       "      <td>0.461910</td>\n",
       "      <td>0.339869</td>\n",
       "      <td>0.246501</td>\n",
       "      <td>0.186915</td>\n",
       "      <td>0.132525</td>\n",
       "      <td>16635473087889</td>\n",
       "      <td>588015510367174656</td>\n",
       "      <td>117316118552510464</td>\n",
       "      <td>10.772990</td>\n",
       "    </tr>\n",
       "  </tbody>\n",
       "</table>\n",
       "<p>5 rows × 68 columns</p>\n",
       "</div>"
      ],
      "text/plain": [
       "                              dr7objid             dr8objid  distance  \\\n",
       "dr7_specObjID                                                           \n",
       "349819130980859904  588015509294350376  1237645942905438473  0.000035   \n",
       "116472201326100480  588015510365339781  1237645943976493208  0.000104   \n",
       "116472201330294784  588015510365339757  1237645943976493287  0.000111   \n",
       "116753554911264768  588015510365339765  1237645943976493290  0.000034   \n",
       "117316118552510464  588015510367174876  1237645943978328289  0.000038   \n",
       "\n",
       "                    skyVersion   run  rerun  camcol  field  obj  nChild  \\\n",
       "dr7_specObjID                                                             \n",
       "349819130980859904           1  3325     41       4    489   40       0   \n",
       "116472201326100480           1  3325     41       6    447  133       0   \n",
       "116472201330294784           1  3325     41       6    447  109       0   \n",
       "116753554911264768           1  3325     41       6    447  117       0   \n",
       "117316118552510464           1  3325     41       6    475  220       0   \n",
       "\n",
       "                      ...      secTarget  extinction_u  extinction_g  \\\n",
       "dr7_specObjID         ...                                              \n",
       "349819130980859904    ...              0      1.050807      0.773173   \n",
       "116472201326100480    ...              0      0.601972      0.442925   \n",
       "116472201330294784    ...              0      0.624787      0.459712   \n",
       "116753554911264768    ...              0      0.609279      0.448302   \n",
       "117316118552510464    ...              0      0.461910      0.339869   \n",
       "\n",
       "                    extinction_r  extinction_i  extinction_z           htmID  \\\n",
       "dr7_specObjID                                                                  \n",
       "349819130980859904      0.560770      0.425215      0.301483  16656133296124   \n",
       "116472201326100480      0.321246      0.243591      0.172709  16645400403243   \n",
       "116472201330294784      0.333422      0.252824      0.179255  16645369720486   \n",
       "116753554911264768      0.325146      0.246548      0.174806  16645407457520   \n",
       "117316118552510464      0.246501      0.186915      0.132525  16635473087889   \n",
       "\n",
       "                               fieldID           SpecObjID       size  \n",
       "dr7_specObjID                                                          \n",
       "349819130980859904  588015509294350336  349819130980859904   8.652516  \n",
       "116472201326100480  588015510365339648  116472201326100480   4.885514  \n",
       "116472201330294784  588015510365339648  116472201330294784   1.646459  \n",
       "116753554911264768  588015510365339648  116753554911264768   5.438163  \n",
       "117316118552510464  588015510367174656  117316118552510464  10.772990  \n",
       "\n",
       "[5 rows x 68 columns]"
      ]
     },
     "execution_count": 11,
     "metadata": {},
     "output_type": "execute_result"
    }
   ],
   "source": [
    "df_dr7dr14 = pd.read_csv(os.path.join(data_dir, \"DR14_Photos.csv\"))\n",
    "\n",
    "df_dr7dr14 = df_dr7dr14.set_index(\"dr7_specObjID\")\n",
    "print(df_dr7dr14.shape)\n",
    "df_dr7dr14.head()"
   ]
  },
  {
   "cell_type": "code",
   "execution_count": 12,
   "metadata": {},
   "outputs": [
    {
     "data": {
      "text/plain": [
       "(167988, 68)"
      ]
     },
     "execution_count": 12,
     "metadata": {},
     "output_type": "execute_result"
    }
   ],
   "source": [
    "df_dr7dr14.drop_duplicates().shape"
   ]
  },
  {
   "cell_type": "code",
   "execution_count": 13,
   "metadata": {},
   "outputs": [
    {
     "data": {
      "text/plain": [
       "(167206,)"
      ]
     },
     "execution_count": 13,
     "metadata": {},
     "output_type": "execute_result"
    }
   ],
   "source": [
    "df_dr7dr14.index.drop_duplicates().shape"
   ]
  },
  {
   "cell_type": "code",
   "execution_count": 14,
   "metadata": {},
   "outputs": [
    {
     "data": {
      "text/plain": [
       "(167206,)"
      ]
     },
     "execution_count": 14,
     "metadata": {},
     "output_type": "execute_result"
    }
   ],
   "source": [
    "df_dr7dr14.SpecObjID.drop_duplicates().shape"
   ]
  },
  {
   "cell_type": "code",
   "execution_count": 15,
   "metadata": {},
   "outputs": [
    {
     "data": {
      "text/plain": [
       "502        75094093016858624\n",
       "504        75094093025247232\n",
       "506        75094093037830144\n",
       "514        75094093079773184\n",
       "523        75094093138493440\n",
       "529        75094093180436480\n",
       "539        75094093243351040\n",
       "544        75094093268516864\n",
       "561        75094093356597248\n",
       "565        75094093381763072\n",
       "566        75094093385957376\n",
       "568        75094093398540288\n",
       "570        75094093406928896\n",
       "572        75094093415317504\n",
       "573        75094093419511808\n",
       "603        75094093578895360\n",
       "606        75094093599866880\n",
       "608        75094093612449792\n",
       "609        75094093616644096\n",
       "611        75094093625032704\n",
       "620        75094093671170048\n",
       "624        75094093687947264\n",
       "638        75094093759250432\n",
       "646        75094093801193472\n",
       "659        75094093868302336\n",
       "665        75094093893468160\n",
       "670        75094093927022592\n",
       "671        75094093931216896\n",
       "673        75094093939605504\n",
       "700        75094094078017536\n",
       "                 ...        \n",
       "927403    837341053253058560\n",
       "927410    837341053290807296\n",
       "927414    837341053362110464\n",
       "927416    837341053374693376\n",
       "927424    837341053420830720\n",
       "927425    837341053429219328\n",
       "927427    837341053437607936\n",
       "927429    837341053454385152\n",
       "927432    837341053479550976\n",
       "927440    837341053534076928\n",
       "927441    837341053538271232\n",
       "927450    837341053584408576\n",
       "927461    837341053659906048\n",
       "927468    837341053701849088\n",
       "927470    837341053714432000\n",
       "927474    837341053743792128\n",
       "927480    837341053798318080\n",
       "927481    837341053806706688\n",
       "927484    837341053831872512\n",
       "927489    837341053852844032\n",
       "927496    837341053890592768\n",
       "927503    837341053940924416\n",
       "927506    837341053953507328\n",
       "927507    837341053957701632\n",
       "927510    837341053982867456\n",
       "927511    837341053991256064\n",
       "927513    837341053999644672\n",
       "927529    837341054100307968\n",
       "927533    837341054133862400\n",
       "927540    837341054184194048\n",
       "Name: SPECOBJID, Length: 170289, dtype: int64"
      ]
     },
     "execution_count": 15,
     "metadata": {},
     "output_type": "execute_result"
    }
   ],
   "source": [
    "df.SPECOBJID"
   ]
  },
  {
   "cell_type": "code",
   "execution_count": 16,
   "metadata": {},
   "outputs": [
    {
     "name": "stdout",
     "output_type": "stream",
     "text": [
      "(167988, 89)\n",
      "(167206,)\n"
     ]
    }
   ],
   "source": [
    "if \"dr8objid\" not in df:\n",
    "    df_tmp = df.join(df_dr7dr14, on=\"SPECOBJID\", how=\"inner\")\n",
    "    print(df_tmp.shape)\n",
    "    print(df_tmp.SPECOBJID.drop_duplicates().shape)\n",
    "    df = df_tmp"
   ]
  },
  {
   "cell_type": "code",
   "execution_count": 17,
   "metadata": {},
   "outputs": [
    {
     "data": {
      "text/html": [
       "<div>\n",
       "<style scoped>\n",
       "    .dataframe tbody tr th:only-of-type {\n",
       "        vertical-align: middle;\n",
       "    }\n",
       "\n",
       "    .dataframe tbody tr th {\n",
       "        vertical-align: top;\n",
       "    }\n",
       "\n",
       "    .dataframe thead th {\n",
       "        text-align: right;\n",
       "    }\n",
       "</style>\n",
       "<table border=\"1\" class=\"dataframe\">\n",
       "  <thead>\n",
       "    <tr style=\"text-align: right;\">\n",
       "      <th></th>\n",
       "      <th>BESTOBJID</th>\n",
       "      <th>FIBERID</th>\n",
       "      <th>HTMID</th>\n",
       "      <th>PLATEID</th>\n",
       "      <th>SPECOBJID</th>\n",
       "      <th>SPECTROGRAPHID</th>\n",
       "      <th>TARGETID</th>\n",
       "      <th>TARGETOBJID</th>\n",
       "      <th>OBJTYPENAME</th>\n",
       "      <th>SCIENCEPRIMARY</th>\n",
       "      <th>...</th>\n",
       "      <th>secTarget</th>\n",
       "      <th>extinction_u</th>\n",
       "      <th>extinction_g</th>\n",
       "      <th>extinction_r</th>\n",
       "      <th>extinction_i</th>\n",
       "      <th>extinction_z</th>\n",
       "      <th>htmID</th>\n",
       "      <th>fieldID</th>\n",
       "      <th>SpecObjID</th>\n",
       "      <th>size</th>\n",
       "    </tr>\n",
       "  </thead>\n",
       "  <tbody>\n",
       "    <tr>\n",
       "      <th>506</th>\n",
       "      <td>0</td>\n",
       "      <td>17</td>\n",
       "      <td>10570139305399</td>\n",
       "      <td>75094092966526976</td>\n",
       "      <td>75094093037830144</td>\n",
       "      <td>1</td>\n",
       "      <td>284705867169812</td>\n",
       "      <td>0</td>\n",
       "      <td>GALAXY</td>\n",
       "      <td>1</td>\n",
       "      <td>...</td>\n",
       "      <td>0</td>\n",
       "      <td>0.379354</td>\n",
       "      <td>0.279125</td>\n",
       "      <td>0.202445</td>\n",
       "      <td>0.153508</td>\n",
       "      <td>0.108839</td>\n",
       "      <td>10570139305399</td>\n",
       "      <td>587725073921540096</td>\n",
       "      <td>75094093037830144</td>\n",
       "      <td>4.297720</td>\n",
       "    </tr>\n",
       "    <tr>\n",
       "      <th>514</th>\n",
       "      <td>0</td>\n",
       "      <td>27</td>\n",
       "      <td>10552961827699</td>\n",
       "      <td>75094092966526976</td>\n",
       "      <td>75094093079773184</td>\n",
       "      <td>1</td>\n",
       "      <td>284706404302990</td>\n",
       "      <td>0</td>\n",
       "      <td>GALAXY</td>\n",
       "      <td>1</td>\n",
       "      <td>...</td>\n",
       "      <td>0</td>\n",
       "      <td>0.429550</td>\n",
       "      <td>0.316059</td>\n",
       "      <td>0.229232</td>\n",
       "      <td>0.173820</td>\n",
       "      <td>0.123240</td>\n",
       "      <td>10552961827696</td>\n",
       "      <td>587725074458673152</td>\n",
       "      <td>75094093079773184</td>\n",
       "      <td>5.687525</td>\n",
       "    </tr>\n",
       "    <tr>\n",
       "      <th>523</th>\n",
       "      <td>0</td>\n",
       "      <td>41</td>\n",
       "      <td>10570179932652</td>\n",
       "      <td>75094092966526976</td>\n",
       "      <td>75094093138493440</td>\n",
       "      <td>1</td>\n",
       "      <td>284722522292399</td>\n",
       "      <td>0</td>\n",
       "      <td>GALAXY</td>\n",
       "      <td>1</td>\n",
       "      <td>...</td>\n",
       "      <td>0</td>\n",
       "      <td>0.273461</td>\n",
       "      <td>0.201210</td>\n",
       "      <td>0.145934</td>\n",
       "      <td>0.110658</td>\n",
       "      <td>0.078458</td>\n",
       "      <td>10570179932652</td>\n",
       "      <td>588848898824273920</td>\n",
       "      <td>75094093138493440</td>\n",
       "      <td>8.377118</td>\n",
       "    </tr>\n",
       "    <tr>\n",
       "      <th>529</th>\n",
       "      <td>0</td>\n",
       "      <td>51</td>\n",
       "      <td>10570166742677</td>\n",
       "      <td>75094092966526976</td>\n",
       "      <td>75094093180436480</td>\n",
       "      <td>1</td>\n",
       "      <td>284722522292321</td>\n",
       "      <td>0</td>\n",
       "      <td>GALAXY</td>\n",
       "      <td>1</td>\n",
       "      <td>...</td>\n",
       "      <td>0</td>\n",
       "      <td>0.320851</td>\n",
       "      <td>0.236079</td>\n",
       "      <td>0.171224</td>\n",
       "      <td>0.129834</td>\n",
       "      <td>0.092054</td>\n",
       "      <td>10570166742677</td>\n",
       "      <td>588848898824273920</td>\n",
       "      <td>75094093180436480</td>\n",
       "      <td>4.254059</td>\n",
       "    </tr>\n",
       "    <tr>\n",
       "      <th>539</th>\n",
       "      <td>0</td>\n",
       "      <td>66</td>\n",
       "      <td>10552759033190</td>\n",
       "      <td>75094092966526976</td>\n",
       "      <td>75094093243351040</td>\n",
       "      <td>1</td>\n",
       "      <td>284723059294422</td>\n",
       "      <td>0</td>\n",
       "      <td>GALAXY</td>\n",
       "      <td>1</td>\n",
       "      <td>...</td>\n",
       "      <td>0</td>\n",
       "      <td>0.707734</td>\n",
       "      <td>0.520744</td>\n",
       "      <td>0.377687</td>\n",
       "      <td>0.286388</td>\n",
       "      <td>0.203053</td>\n",
       "      <td>10552759030425</td>\n",
       "      <td>588848899361275904</td>\n",
       "      <td>75094093243351040</td>\n",
       "      <td>3.969658</td>\n",
       "    </tr>\n",
       "  </tbody>\n",
       "</table>\n",
       "<p>5 rows × 89 columns</p>\n",
       "</div>"
      ],
      "text/plain": [
       "     BESTOBJID  FIBERID           HTMID            PLATEID          SPECOBJID  \\\n",
       "506          0       17  10570139305399  75094092966526976  75094093037830144   \n",
       "514          0       27  10552961827699  75094092966526976  75094093079773184   \n",
       "523          0       41  10570179932652  75094092966526976  75094093138493440   \n",
       "529          0       51  10570166742677  75094092966526976  75094093180436480   \n",
       "539          0       66  10552759033190  75094092966526976  75094093243351040   \n",
       "\n",
       "     SPECTROGRAPHID         TARGETID  TARGETOBJID OBJTYPENAME  SCIENCEPRIMARY  \\\n",
       "506               1  284705867169812            0      GALAXY               1   \n",
       "514               1  284706404302990            0      GALAXY               1   \n",
       "523               1  284722522292399            0      GALAXY               1   \n",
       "529               1  284722522292321            0      GALAXY               1   \n",
       "539               1  284723059294422            0      GALAXY               1   \n",
       "\n",
       "       ...     secTarget  extinction_u  extinction_g  extinction_r  \\\n",
       "506    ...             0      0.379354      0.279125      0.202445   \n",
       "514    ...             0      0.429550      0.316059      0.229232   \n",
       "523    ...             0      0.273461      0.201210      0.145934   \n",
       "529    ...             0      0.320851      0.236079      0.171224   \n",
       "539    ...             0      0.707734      0.520744      0.377687   \n",
       "\n",
       "     extinction_i  extinction_z           htmID             fieldID  \\\n",
       "506      0.153508      0.108839  10570139305399  587725073921540096   \n",
       "514      0.173820      0.123240  10552961827696  587725074458673152   \n",
       "523      0.110658      0.078458  10570179932652  588848898824273920   \n",
       "529      0.129834      0.092054  10570166742677  588848898824273920   \n",
       "539      0.286388      0.203053  10552759030425  588848899361275904   \n",
       "\n",
       "             SpecObjID      size  \n",
       "506  75094093037830144  4.297720  \n",
       "514  75094093079773184  5.687525  \n",
       "523  75094093138493440  8.377118  \n",
       "529  75094093180436480  4.254059  \n",
       "539  75094093243351040  3.969658  \n",
       "\n",
       "[5 rows x 89 columns]"
      ]
     },
     "execution_count": 17,
     "metadata": {},
     "output_type": "execute_result"
    }
   ],
   "source": [
    "df.head()"
   ]
  },
  {
   "cell_type": "markdown",
   "metadata": {},
   "source": [
    "## Apply the cuts used by Wu and Boada"
   ]
  },
  {
   "cell_type": "code",
   "execution_count": 18,
   "metadata": {},
   "outputs": [],
   "source": [
    "mask =  (df.modelMag_u > 10) & (df.modelMag_u < 25)\n",
    "mask &= (df.modelMag_g > 10) & (df.modelMag_g < 25)\n",
    "mask &= (df.modelMag_r > 10) & (df.modelMag_r < 25)\n",
    "mask &= (df.modelMag_i > 10) & (df.modelMag_i < 25)\n",
    "mask &= (df.modelMag_z > 10) & (df.modelMag_z < 25)\n",
    "\n",
    "u_minus_r = df.modelMag_u - df.modelMag_r\n",
    "mask &= (u_minus_r > 0) & (u_minus_r < 6)\n",
    "\n",
    "mask &= (df.Z>.02)\n",
    "mask &= (df.ZERR < .01)\n",
    "\n",
    "mask &= (df.petroMag_r < 18)\n",
    "\n",
    "mask &= df.ZWARNING==0\n",
    "\n",
    "df = df[mask]"
   ]
  },
  {
   "cell_type": "code",
   "execution_count": 19,
   "metadata": {},
   "outputs": [
    {
     "name": "stdout",
     "output_type": "stream",
     "text": [
      "0.7794306736195442\n",
      "130935\n"
     ]
    }
   ],
   "source": [
    "print(mask.mean())\n",
    "print(mask.sum())"
   ]
  },
  {
   "cell_type": "code",
   "execution_count": 20,
   "metadata": {},
   "outputs": [
    {
     "data": {
      "text/plain": [
       "0.067944"
      ]
     },
     "execution_count": 20,
     "metadata": {},
     "output_type": "execute_result"
    }
   ],
   "source": [
    "np.median(df.Z)"
   ]
  },
  {
   "cell_type": "code",
   "execution_count": 21,
   "metadata": {},
   "outputs": [
    {
     "data": {
      "text/plain": [
       "0.366842"
      ]
     },
     "execution_count": 21,
     "metadata": {},
     "output_type": "execute_result"
    }
   ],
   "source": [
    "df.Z.max()"
   ]
  },
  {
   "cell_type": "code",
   "execution_count": 22,
   "metadata": {},
   "outputs": [
    {
     "name": "stderr",
     "output_type": "stream",
     "text": [
      "/Users/egentry/anaconda3/lib/python3.7/site-packages/scipy/stats/stats.py:1713: FutureWarning: Using a non-tuple sequence for multidimensional indexing is deprecated; use `arr[tuple(seq)]` instead of `arr[seq]`. In the future this will be interpreted as an array index, `arr[np.array(seq)]`, which will result either in an error or a different result.\n",
      "  return np.add.reduce(sorted[indexer] * weights, axis=axis) / sumval\n"
     ]
    },
    {
     "data": {
      "text/plain": [
       "<matplotlib.axes._subplots.AxesSubplot at 0x1a18e506d8>"
      ]
     },
     "execution_count": 22,
     "metadata": {},
     "output_type": "execute_result"
    },
    {
     "data": {
      "image/png": "[encoded data removed]",
      "text/plain": [
       "<Figure size 432x288 with 1 Axes>"
      ]
     },
     "metadata": {
      "needs_background": "light"
     },
     "output_type": "display_data"
    }
   ],
   "source": [
    "sns.distplot(df.Z)"
   ]
  },
  {
   "cell_type": "markdown",
   "metadata": {},
   "source": [
    "## Final thing: deal with duplicates\n",
    "Some `SpecObjID`s point to multiple photometry objects (<1\\%).  This is problematic because that means an image / set of photometry points might appear in both the training and testing sets. To deal with this, especially since it's such a small fraction, **I'll just drop any rows with duplicate `SpecObjID`**."
   ]
  },
  {
   "cell_type": "code",
   "execution_count": 23,
   "metadata": {},
   "outputs": [
    {
     "data": {
      "text/plain": [
       "(130935, 89)"
      ]
     },
     "execution_count": 23,
     "metadata": {},
     "output_type": "execute_result"
    }
   ],
   "source": [
    "df.shape"
   ]
  },
  {
   "cell_type": "code",
   "execution_count": 24,
   "metadata": {},
   "outputs": [
    {
     "data": {
      "text/plain": [
       "(130318,)"
      ]
     },
     "execution_count": 24,
     "metadata": {},
     "output_type": "execute_result"
    }
   ],
   "source": [
    "df.SpecObjID.drop_duplicates().shape"
   ]
  },
  {
   "cell_type": "code",
   "execution_count": 25,
   "metadata": {},
   "outputs": [
    {
     "data": {
      "text/plain": [
       "(130935,)"
      ]
     },
     "execution_count": 25,
     "metadata": {},
     "output_type": "execute_result"
    }
   ],
   "source": [
    "df.dr8objid.drop_duplicates().shape"
   ]
  },
  {
   "cell_type": "code",
   "execution_count": 26,
   "metadata": {},
   "outputs": [
    {
     "data": {
      "text/plain": [
       "(129702, 89)"
      ]
     },
     "execution_count": 26,
     "metadata": {},
     "output_type": "execute_result"
    }
   ],
   "source": [
    "df = df.drop_duplicates(\n",
    "    subset=\"SpecObjID\", \n",
    "    keep=False, # drop all rows that were duplicate -- don't keep any\n",
    ")\n",
    "\n",
    "df.shape"
   ]
  },
  {
   "cell_type": "markdown",
   "metadata": {},
   "source": [
    "## Save to disk"
   ]
  },
  {
   "cell_type": "code",
   "execution_count": 27,
   "metadata": {},
   "outputs": [
    {
     "data": {
      "text/html": [
       "<div>\n",
       "<style scoped>\n",
       "    .dataframe tbody tr th:only-of-type {\n",
       "        vertical-align: middle;\n",
       "    }\n",
       "\n",
       "    .dataframe tbody tr th {\n",
       "        vertical-align: top;\n",
       "    }\n",
       "\n",
       "    .dataframe thead th {\n",
       "        text-align: right;\n",
       "    }\n",
       "</style>\n",
       "<table border=\"1\" class=\"dataframe\">\n",
       "  <thead>\n",
       "    <tr style=\"text-align: right;\">\n",
       "      <th></th>\n",
       "      <th>modelMag_u</th>\n",
       "      <th>modelMag_g</th>\n",
       "      <th>modelMag_r</th>\n",
       "      <th>modelMag_i</th>\n",
       "      <th>modelMag_z</th>\n",
       "    </tr>\n",
       "    <tr>\n",
       "      <th>SpecObjID</th>\n",
       "      <th></th>\n",
       "      <th></th>\n",
       "      <th></th>\n",
       "      <th></th>\n",
       "      <th></th>\n",
       "    </tr>\n",
       "  </thead>\n",
       "  <tbody>\n",
       "    <tr>\n",
       "      <th>75094093037830144</th>\n",
       "      <td>19.04247</td>\n",
       "      <td>17.61871</td>\n",
       "      <td>16.96226</td>\n",
       "      <td>16.56983</td>\n",
       "      <td>16.33786</td>\n",
       "    </tr>\n",
       "    <tr>\n",
       "      <th>75094093138493440</th>\n",
       "      <td>18.53538</td>\n",
       "      <td>17.05057</td>\n",
       "      <td>16.26454</td>\n",
       "      <td>15.79881</td>\n",
       "      <td>15.46043</td>\n",
       "    </tr>\n",
       "    <tr>\n",
       "      <th>75094093180436480</th>\n",
       "      <td>17.41603</td>\n",
       "      <td>16.20129</td>\n",
       "      <td>15.53550</td>\n",
       "      <td>15.08500</td>\n",
       "      <td>14.81784</td>\n",
       "    </tr>\n",
       "    <tr>\n",
       "      <th>75094093243351040</th>\n",
       "      <td>19.17648</td>\n",
       "      <td>17.86717</td>\n",
       "      <td>17.17922</td>\n",
       "      <td>16.72164</td>\n",
       "      <td>16.46356</td>\n",
       "    </tr>\n",
       "    <tr>\n",
       "      <th>75094093398540288</th>\n",
       "      <td>20.04444</td>\n",
       "      <td>18.33195</td>\n",
       "      <td>17.63743</td>\n",
       "      <td>17.23082</td>\n",
       "      <td>16.91418</td>\n",
       "    </tr>\n",
       "  </tbody>\n",
       "</table>\n",
       "</div>"
      ],
      "text/plain": [
       "                   modelMag_u  modelMag_g  modelMag_r  modelMag_i  modelMag_z\n",
       "SpecObjID                                                                    \n",
       "75094093037830144    19.04247    17.61871    16.96226    16.56983    16.33786\n",
       "75094093138493440    18.53538    17.05057    16.26454    15.79881    15.46043\n",
       "75094093180436480    17.41603    16.20129    15.53550    15.08500    14.81784\n",
       "75094093243351040    19.17648    17.86717    17.17922    16.72164    16.46356\n",
       "75094093398540288    20.04444    18.33195    17.63743    17.23082    16.91418"
      ]
     },
     "execution_count": 27,
     "metadata": {},
     "output_type": "execute_result"
    }
   ],
   "source": [
    "feature_keys = [\n",
    "    \"modelMag_u\",\n",
    "    \"modelMag_g\",\n",
    "    \"modelMag_r\",\n",
    "    \"modelMag_i\",\n",
    "    \"modelMag_z\",\n",
    "]\n",
    "features = df.set_index(\"SpecObjID\")[feature_keys]\n",
    "\n",
    "features.to_csv(os.path.join(data_dir, \"features.csv\"), index=True)\n",
    "\n",
    "features.head()"
   ]
  },
  {
   "cell_type": "code",
   "execution_count": 28,
   "metadata": {},
   "outputs": [
    {
     "data": {
      "text/html": [
       "<div>\n",
       "<style scoped>\n",
       "    .dataframe tbody tr th:only-of-type {\n",
       "        vertical-align: middle;\n",
       "    }\n",
       "\n",
       "    .dataframe tbody tr th {\n",
       "        vertical-align: top;\n",
       "    }\n",
       "\n",
       "    .dataframe thead th {\n",
       "        text-align: right;\n",
       "    }\n",
       "</style>\n",
       "<table border=\"1\" class=\"dataframe\">\n",
       "  <thead>\n",
       "    <tr style=\"text-align: right;\">\n",
       "      <th></th>\n",
       "      <th>OH_median</th>\n",
       "    </tr>\n",
       "    <tr>\n",
       "      <th>SpecObjID</th>\n",
       "      <th></th>\n",
       "    </tr>\n",
       "  </thead>\n",
       "  <tbody>\n",
       "    <tr>\n",
       "      <th>75094093037830144</th>\n",
       "      <td>9.052521</td>\n",
       "    </tr>\n",
       "    <tr>\n",
       "      <th>75094093138493440</th>\n",
       "      <td>9.136789</td>\n",
       "    </tr>\n",
       "    <tr>\n",
       "      <th>75094093180436480</th>\n",
       "      <td>9.050070</td>\n",
       "    </tr>\n",
       "    <tr>\n",
       "      <th>75094093243351040</th>\n",
       "      <td>9.131351</td>\n",
       "    </tr>\n",
       "    <tr>\n",
       "      <th>75094093398540288</th>\n",
       "      <td>8.706560</td>\n",
       "    </tr>\n",
       "  </tbody>\n",
       "</table>\n",
       "</div>"
      ],
      "text/plain": [
       "                   OH_median\n",
       "SpecObjID                   \n",
       "75094093037830144   9.052521\n",
       "75094093138493440   9.136789\n",
       "75094093180436480   9.050070\n",
       "75094093243351040   9.131351\n",
       "75094093398540288   8.706560"
      ]
     },
     "execution_count": 28,
     "metadata": {},
     "output_type": "execute_result"
    }
   ],
   "source": [
    "target_keys = [\n",
    "    \"MEDIAN\"\n",
    "]\n",
    "targets = df.set_index(\"SpecObjID\")[target_keys].rename(columns={\"MEDIAN\":\"OH_median\"})\n",
    "\n",
    "targets.to_csv(os.path.join(data_dir, \"targets.csv\"), index=True)\n",
    "\n",
    "targets.head()"
   ]
  },
  {
   "cell_type": "code",
   "execution_count": 29,
   "metadata": {},
   "outputs": [
    {
     "data": {
      "text/plain": [
       "array([[<matplotlib.axes._subplots.AxesSubplot object at 0x1a1f393c18>]],\n",
       "      dtype=object)"
      ]
     },
     "execution_count": 29,
     "metadata": {},
     "output_type": "execute_result"
    },
    {
     "data": {
      "image/png": "[encoded data removed]",
      "text/plain": [
       "<Figure size 432x288 with 1 Axes>"
      ]
     },
     "metadata": {
      "needs_background": "light"
     },
     "output_type": "display_data"
    }
   ],
   "source": [
    "targets.hist()"
   ]
  },
  {
   "cell_type": "code",
   "execution_count": 31,
   "metadata": {},
   "outputs": [],
   "source": [
    "df.to_csv(os.path.join(data_dir, \"matched_galaxies.csv\"),\n",
    "          index=False)"
   ]
  },
  {
   "cell_type": "code",
   "execution_count": null,
   "metadata": {},
   "outputs": [],
   "source": []
  }
 ],
 "metadata": {
  "kernelspec": {
   "display_name": "Python 3",
   "language": "python",
   "name": "python3"
  },
  "language_info": {
   "codemirror_mode": {
    "name": "ipython",
    "version": 3
   },
   "file_extension": ".py",
   "mimetype": "text/x-python",
   "name": "python",
   "nbconvert_exporter": "python",
   "pygments_lexer": "ipython3",
   "version": "3.7.1"
  }
 },
 "nbformat": 4,
 "nbformat_minor": 2
}
