{
 "cells": [
  {
   "cell_type": "code",
   "execution_count": null,
   "metadata": {},
   "outputs": [],
   "source": [
    "from matplotlib import pyplot as plt\n",
    "import pandas as pd\n",
    "import numpy as np\n",
    "import os\n",
    "import sys\n",
    "\n",
    "import astropy\n",
    "from astropy import wcs\n",
    "from astropy.nddata import Cutout2D\n",
    "from astropy import units as u\n",
    "\n",
    "from collections import namedtuple\n",
    "\n",
    "\n",
    "import glob\n"
   ]
  },
  {
   "cell_type": "code",
   "execution_count": null,
   "metadata": {},
   "outputs": [],
   "source": [
    "# my home-written modules\n",
    "import image_helpers"
   ]
  },
  {
   "cell_type": "code",
   "execution_count": null,
   "metadata": {},
   "outputs": [],
   "source": [
    "%load_ext autoreload\n",
    "%autoreload 2"
   ]
  },
  {
   "cell_type": "code",
   "execution_count": null,
   "metadata": {},
   "outputs": [],
   "source": [
    "plt.rcParams['savefig.dpi'] = 80*2\n",
    "plt.rcParams['figure.dpi'] = 80*2\n",
    "plt.rcParams['figure.figsize'] = np.array((10,6))*.5\n",
    "plt.rcParams['figure.facecolor'] = \"white\""
   ]
  },
  {
   "cell_type": "code",
   "execution_count": null,
   "metadata": {},
   "outputs": [],
   "source": [
    "data_dir = image_helpers.data_dir\n"
   ]
  },
  {
   "cell_type": "markdown",
   "metadata": {},
   "source": [
    "# Load data"
   ]
  },
  {
   "cell_type": "code",
   "execution_count": null,
   "metadata": {},
   "outputs": [],
   "source": [
    "df = pd.read_csv(os.path.join(data_dir, \"matched_galaxies.csv\"))\n",
    "df = df.set_index(\"SpecObjID\")\n",
    "print(df.shape)\n",
    "df.head()"
   ]
  },
  {
   "cell_type": "code",
   "execution_count": null,
   "metadata": {},
   "outputs": [],
   "source": [
    "dirnames = glob.glob(os.path.join(data_dir, \"images\", \"cutout\", \"*\"))\n",
    "ids_with_images = [int(os.path.split(dirname)[-1]) \n",
    "             for dirname in dirnames]\n",
    "\n",
    "filename_format = os.path.join(data_dir, \"images\", \"cutout\", \"{0}\", \"{0}-*.fits\")\n",
    "has_5_bands = lambda id: len(glob.glob(filename_format.format(id))) == 5\n",
    "\n",
    "ids_with_images = [i for i in ids_with_images\n",
    "                   if has_5_bands(i)]"
   ]
  },
  {
   "cell_type": "code",
   "execution_count": null,
   "metadata": {},
   "outputs": [],
   "source": [
    "filename_format.format(ids_with_images[0])"
   ]
  },
  {
   "cell_type": "code",
   "execution_count": null,
   "metadata": {},
   "outputs": [],
   "source": [
    "ids_with_images"
   ]
  },
  {
   "cell_type": "code",
   "execution_count": null,
   "metadata": {},
   "outputs": [],
   "source": [
    "len(ids_with_images)"
   ]
  },
  {
   "cell_type": "code",
   "execution_count": null,
   "metadata": {},
   "outputs": [],
   "source": [
    "def load_as_array(galaxy_id):\n",
    "    data_list = [None]*len(image_helpers.bands)\n",
    "    for i, band in enumerate(image_helpers.bands):\n",
    "        cutout_filename = image_helpers.get_cutout_filename(\n",
    "            galaxy_id, band\n",
    "        )\n",
    "        f = astropy.io.fits.open(cutout_filename)\n",
    "        data_list[i] = f[0].data\n",
    "    \n",
    "    return data_list\n",
    "        \n"
   ]
  },
  {
   "cell_type": "code",
   "execution_count": null,
   "metadata": {},
   "outputs": [],
   "source": [
    "galaxy_id = 75094093037830144\n",
    "a = np.array(load_as_array(galaxy_id))"
   ]
  },
  {
   "cell_type": "code",
   "execution_count": null,
   "metadata": {},
   "outputs": [],
   "source": [
    "df.loc[[galaxy_id]][[\"run\", \"camcol\", \"field\"]]"
   ]
  },
  {
   "cell_type": "code",
   "execution_count": null,
   "metadata": {},
   "outputs": [],
   "source": [
    "def sdss_stretch(data, u_a=np.exp(6.), u_b = 0.05): \n",
    "    \"\"\"\n",
    "    adapted from: https://hsc-gitlab.mtk.nao.ac.jp/snippets/23#L215\n",
    "\n",
    "    u_a and u_b depend on the dataset and tuned by hand.\n",
    "    basically, u_a helps you shift where you get the transition\n",
    "    between the linear and logarithmic behaviors\n",
    "    bimodalities. u_b is basically a bias\n",
    "    \n",
    "    My rules of thumb are:\n",
    "    1) Using the image, choose a sky value, u_b such that if you\n",
    "       went any higher, you'd start to lose ~more galaxy pixels\n",
    "       than background pixels.\n",
    "    2) Using the histogram, choose a softening parameter, u_a,\n",
    "       such that your two populations of pixels (background and target)\n",
    "       have some overlap around 0, but not too much. Basically, just\n",
    "       make it representative of your uncertainty whether the pixels\n",
    "       at 0 are foreground or background.\n",
    "    \"\"\"\n",
    "    data -= u_b\n",
    "    data = np.arcsinh(u_a * (data)) / np.arcsinh(u_a)\n",
    "    data += u_b\n",
    "    return data\n",
    "\n"
   ]
  },
  {
   "cell_type": "code",
   "execution_count": null,
   "metadata": {},
   "outputs": [],
   "source": [
    "import ipywidgets\n",
    "@ipywidgets.interact(ith_galaxy=ipywidgets.IntSlider(min=0, max=50),\n",
    "                     u_a=ipywidgets.FloatSlider(min=1,max=10, value=6),\n",
    "                     u_b=ipywidgets.FloatSlider(min=-.1, max=.1,\n",
    "                                                step=.01, value=0.05),\n",
    "                    show_hist = ipywidgets.Checkbox())\n",
    "def tmp(ith_galaxy, u_a, u_b, show_hist):\n",
    "    a = np.array(load_as_array(sorted(ids_with_images)[ith_galaxy]))\n",
    "    a = sdss_stretch(a, np.exp(u_a), u_b)\n",
    "    b = a.copy()\n",
    "    a[a<0] = 0\n",
    "    a[a>1] = 1\n",
    "    plt.imshow(a.swapaxes(0,2)[:,:,(3,2,1)])\n",
    "    if show_hist:\n",
    "        plt.figure()\n",
    "        for i in range(b.shape[0]):\n",
    "            plt.hist(b[i].flatten(), histtype=\"step\", label=image_helpers.bands[i])\n",
    "        plt.legend()\n"
   ]
  },
  {
   "cell_type": "markdown",
   "metadata": {},
   "source": [
    "# Scale images, combine bands, save to `.npy`"
   ]
  },
  {
   "cell_type": "code",
   "execution_count": null,
   "metadata": {},
   "outputs": [],
   "source": [
    "processed_filename_format = os.path.join(\n",
    "    data_dir,\n",
    "    \"images\",\n",
    "    \"processed\",\n",
    "    \"{galaxy_id}.npy\"\n",
    ")\n",
    "\n",
    "processed_dir = os.path.split(processed_filename_format)[0]\n",
    "if not os.path.exists(processed_dir):\n",
    "    os.makedirs(processed_dir)"
   ]
  },
  {
   "cell_type": "code",
   "execution_count": null,
   "metadata": {},
   "outputs": [],
   "source": [
    "for i, galaxy_id in enumerate(ids_with_images):\n",
    "    if(i%(len(ids_with_images)//10) == 0):\n",
    "        print(\"i = {:>6d}\".format(i))\n",
    "        sys.stdout.flush()\n",
    "    output_filename = processed_filename_format.format(galaxy_id=galaxy_id)\n",
    "    if os.path.exists(output_filename):\n",
    "        continue\n",
    "        \n",
    "    img = load_as_array(galaxy_id)\n",
    "    if not np.all(np.array([img_i.shape for img_i in img]) == 95):\n",
    "        # image not the correct shape - at least one band must have been near an edge\n",
    "        continue\n",
    "    img = np.array(img)\n",
    "    img = sdss_stretch(img)\n",
    "    np.save(output_filename, img)\n",
    "    \n"
   ]
  },
  {
   "cell_type": "code",
   "execution_count": null,
   "metadata": {},
   "outputs": [],
   "source": []
  },
  {
   "cell_type": "code",
   "execution_count": null,
   "metadata": {},
   "outputs": [],
   "source": []
  },
  {
   "cell_type": "code",
   "execution_count": null,
   "metadata": {},
   "outputs": [],
   "source": []
  },
  {
   "cell_type": "code",
   "execution_count": null,
   "metadata": {},
   "outputs": [],
   "source": []
  }
 ],
 "metadata": {
  "kernelspec": {
   "display_name": "Python 3",
   "language": "python",
   "name": "python3"
  },
  "language_info": {
   "codemirror_mode": {
    "name": "ipython",
    "version": 3
   },
   "file_extension": ".py",
   "mimetype": "text/x-python",
   "name": "python",
   "nbconvert_exporter": "python",
   "pygments_lexer": "ipython3",
   "version": "3.6.7"
  },
  "widgets": {
   "state": {},
   "version": "1.1.2"
  }
 },
 "nbformat": 4,
 "nbformat_minor": 2
}
